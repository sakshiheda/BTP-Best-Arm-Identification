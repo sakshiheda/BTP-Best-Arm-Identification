{
 "cells": [
  {
   "cell_type": "code",
   "execution_count": 1,
   "metadata": {},
   "outputs": [],
   "source": [
    "import numpy as np\n",
    "import matplotlib.pyplot as plt\n",
    "import math\n",
    "from icecream import ic\n",
    "import csv\n",
    "filename = '/../Academics/Semester7/BTP/Plotting/Data.csv'\n"
   ]
  },
  {
   "cell_type": "code",
   "execution_count": 2,
   "metadata": {},
   "outputs": [],
   "source": [
    "x = 0"
   ]
  },
  {
   "cell_type": "markdown",
   "metadata": {},
   "source": [
    "# Functions required"
   ]
  },
  {
   "cell_type": "code",
   "execution_count": 3,
   "metadata": {},
   "outputs": [],
   "source": [
    "def get_margins(mu, N, M, t, T, delta):\n",
    "    delta = 0.1\n",
    "    val1 = N*(M+1)/2/delta\n",
    "    val2 = t**3\n",
    "    val = val1*val2\n",
    "    # print(val)\n",
    "    log_term = math.log(val)\n",
    "    sqrt_term = log_term/4/T\n",
    "    alpha = math.sqrt(sqrt_term)\n",
    "    # print(\"mu: \", mu, \"t: \", t, \"T: \", T, \"alpha: \", alpha)\n",
    "    LCB = mu - alpha\n",
    "    UCB = mu + alpha\n",
    "    return LCB, UCB"
   ]
  },
  {
   "cell_type": "code",
   "execution_count": 4,
   "metadata": {},
   "outputs": [],
   "source": [
    "def get_feasible_set(mu_th, UCB_attr):\n",
    "    ## mu_attr will be an array with the current means of all attributes of the specific arm\n",
    "    ## same for UCB and LCB things\n",
    "    feasible_set = []\n",
    "    ## here mu_attr would be a 2D array with all the means\n",
    "    ## same for LCB (LCB_attr)\n",
    "    n = len(UCB_attr)\n",
    "    m = len(UCB_attr[0])\n",
    "    for i in range (n):\n",
    "        ## for each arm\n",
    "        found = False\n",
    "        UCB_min = min(UCB_attr[i])\n",
    "        if (UCB_min >= mu_th):\n",
    "            feasible_set.append(i)\n",
    "\n",
    "    return feasible_set"
   ]
  },
  {
   "cell_type": "code",
   "execution_count": 5,
   "metadata": {},
   "outputs": [],
   "source": [
    "def get_perfect_feasible_set(mu_th, LCB_attr):\n",
    "    feasible_set = []\n",
    "    ## here mu_attr would be a 2D array with all the means\n",
    "    ## same for LCB (LCB_attr)\n",
    "    # n = len(LCB_attr)\n",
    "    n = len(LCB_attr)\n",
    "    for i in range (n):\n",
    "        ## for each arm\n",
    "        LCB_min  = min(LCB_attr[i])\n",
    "        if (LCB_min >= mu_th):\n",
    "            feasible_set.append(i)\n",
    "\n",
    "    return feasible_set"
   ]
  },
  {
   "cell_type": "code",
   "execution_count": 6,
   "metadata": {},
   "outputs": [],
   "source": [
    "def best_arm(mu, feasible_set):\n",
    "    ## for arms in feasible set, we need to find the arm with maximum mean\n",
    "    best = feasible_set[0]\n",
    "    for arm in feasible_set:\n",
    "        # print(arm)\n",
    "        if(mu[arm] >= mu[best]):\n",
    "            best = arm\n",
    "    return best"
   ]
  },
  {
   "cell_type": "code",
   "execution_count": 7,
   "metadata": {},
   "outputs": [],
   "source": [
    "def intersection(lst1, lst2):\n",
    "    temp = set(lst2)\n",
    "    lst3 = [value for value in lst1 if value in temp]\n",
    "    return lst3"
   ]
  },
  {
   "cell_type": "code",
   "execution_count": 8,
   "metadata": {},
   "outputs": [],
   "source": [
    "def potentially_competitor_arm(UCB, feasible_set, potentially_best_arm):\n",
    "    if (potentially_best_arm != feasible_set[0]):\n",
    "        best = feasible_set[0]\n",
    "    else:\n",
    "        best = feasible_set[1]\n",
    "    for arm in feasible_set:\n",
    "        if (arm != potentially_best_arm):\n",
    "            if((UCB[arm] > UCB[best])):\n",
    "                best = arm\n",
    "    # print(\"pot: \", potentially_best_arm, \"ct: \", best)\n",
    "    return best"
   ]
  },
  {
   "cell_type": "code",
   "execution_count": 9,
   "metadata": {},
   "outputs": [],
   "source": [
    "def get_suboptimal_arm(mu_i_star, mu_i, arms_set):\n",
    "    suboptimal = []\n",
    "    for arms in arms_set:\n",
    "        if (mu_i[arms] < mu_i_star):\n",
    "            suboptimal.append(arms)\n",
    "\n",
    "    return suboptimal"
   ]
  },
  {
   "cell_type": "code",
   "execution_count": 10,
   "metadata": {},
   "outputs": [],
   "source": [
    "def difference(li1, li2):\n",
    "    s = set(li2)\n",
    "    temp3 = [x for x in li1 if x not in s]\n",
    "    return temp3"
   ]
  },
  {
   "cell_type": "code",
   "execution_count": 11,
   "metadata": {},
   "outputs": [],
   "source": [
    "def get_margins_ae(mu, t, delta, N):\n",
    "    c = (math.pi**2)/6\n",
    "    val1 = 2*N*c*t*t/delta\n",
    "    # print(t)\n",
    "    alpha = math.sqrt(2*math.log(val1)/t)\n",
    "    LCB = mu - alpha\n",
    "    UCB = mu + alpha\n",
    "    return LCB, UCB"
   ]
  },
  {
   "cell_type": "code",
   "execution_count": 12,
   "metadata": {},
   "outputs": [],
   "source": [
    "# def best_arm_ae(mu, arm_set):\n",
    "#     ## for arms in feasible set, we need to find the arm with maximum mean\n",
    "#     best = arm_set[0]\n",
    "#     for i in range (len(arm_set)):\n",
    "#         arm\n",
    "#     for arm in feasible_set:\n",
    "#         # print(arm)\n",
    "#         if(mu[arm] >= mu[best]):\n",
    "#             best = arm\n",
    "#     return best"
   ]
  },
  {
   "cell_type": "code",
   "execution_count": 13,
   "metadata": {},
   "outputs": [],
   "source": [
    "def get_perfect_feasible_attr_set(mu_th, LCB_attr):\n",
    "    perfect_feasible = []\n",
    "    for i in range (len(LCB_attr)):\n",
    "        for j in range (len(LCB_attr[0])):\n",
    "            if LCB_attr[i][j] >= mu_th:\n",
    "                perfect_feasible.append([i, j])\n",
    "\n",
    "    return perfect_feasible"
   ]
  },
  {
   "cell_type": "code",
   "execution_count": 14,
   "metadata": {},
   "outputs": [],
   "source": [
    "def get_possibly_feasible_attr_set(mu_th, LCB_attr, UCB_attr):\n",
    "    ans = []\n",
    "    # N, M = len(LCB_attr), len(UCB_attr)\n",
    "    # print(N, M)\n",
    "    for i in range(len(LCB_attr)):\n",
    "        for j in range (len(UCB_attr[0])):\n",
    "            if LCB_attr[i][j] < mu_th and UCB_attr[i][j] >= mu_th:\n",
    "                ans.append([i, j])\n",
    "    return ans"
   ]
  },
  {
   "cell_type": "markdown",
   "metadata": {},
   "source": [
    "# Oracle"
   ]
  },
  {
   "cell_type": "code",
   "execution_count": 16,
   "metadata": {},
   "outputs": [],
   "source": [
    "class Oracle:\n",
    "    def __init__(self, M, N, mu_th) -> None:\n",
    "        self.M = M\n",
    "        self.N = N\n",
    "        arms = 5\n",
    "        attributes = 2\n",
    "        self.mu_ij = [[0 for i in range (attributes)] for j in range (arms)]\n",
    "        self.ab_array = [[[0, 0] for i in range (attributes)] for j in range (arms)]\n",
    "        self.mu_i = [0 for i in range (arms)]\n",
    "\n",
    "        self.mu_th = mu_th\n",
    "        \n",
    "        ## fixing alpha at 1\n",
    "\n",
    "\n",
    "        self.ab_array[0] = np.array([[1, 1], [1, 0.67], [1, 0.67], [1, 1], [1, 0.25]])            #0.6\n",
    "        self.ab_array[1] = np.array([[1, 0.43], [1, 1], [1, 1.5], [1, 1.5], [1, 0.67]])          #0.58\n",
    "        self.ab_array[2] = np.array([[1, (1/x)-1], [1, 1], [1, 0.11], [1, 0.25], [1, 0.11]])         #0.68\n",
    "        self.ab_array[3] = np.array([[1, 0.67], [1, 4], [1, 1.5], [1, 0.43], [1, 0.67]])          #0.5\n",
    "        self.ab_array[4] = np.array([[1, 2.33], [1, 0.43], [1, 1.5], [1, 0.11], [1, 1]])          #0.56\n",
    "\n",
    "        for i in range (arms):\n",
    "            for j in range (attributes):\n",
    "                alpha = self.ab_array[i][j][0]\n",
    "                beta = self.ab_array[i][j][1]\n",
    "                self.mu_ij[i][j] = alpha / (alpha + beta)\n",
    "\n",
    "\n",
    "        for i in range (len(self.mu_i)):\n",
    "            self.mu_i[i] = sum(self.mu_ij[i])/attributes\n",
    "\n",
    "    def play(self, arm, attr):\n",
    "        alpha, beta = self.ab_array[arm][attr]\n",
    "        reward = np.random.beta(alpha, beta, 1)[0]\n",
    "        return reward\n",
    "    \n",
    "    def hardness(self):\n",
    "        self.i_star = 0                 ## best arm in the feasible set\n",
    "        self.i_star_star = 1            ## best arm in suboptimal set\n",
    "\n",
    "        self.delta_i = [0 for i in range (self.N)]\n",
    "        self.delta_ij = [[0 for i in range (self.M)] for j in range (self.N)]\n",
    "        self.delta_i_attr = [0 for i in range (self.N)]\n",
    "\n",
    "         ### assume that always i_star is 0 ###\n",
    "        \n",
    "        all_arms = list(range(0, self.N))\n",
    "\n",
    "        self.perfect_feasible = get_perfect_feasible_set(self.mu_th, self.mu_ij)\n",
    "        self.i_star = best_arm(self.mu_i, self.perfect_feasible)\n",
    "\n",
    "        self.suboptimal = get_suboptimal_arm(self.mu_i[self.i_star], self.mu_i, all_arms)\n",
    "        self.i_star_star = best_arm(self.mu_i, self.suboptimal)\n",
    "        \n",
    "        self.risky = difference(all_arms, self.suboptimal)\n",
    "        self.infeasible = difference(all_arms, self.perfect_feasible) \n",
    "\n",
    "        for i in range (self.N):\n",
    "            if (i != self.i_star):\n",
    "                self.delta_i[i] = self.mu_i[self.i_star] - self.mu_i[i]\n",
    "                self.delta_i_attr[i] = abs(min(self.mu_ij[i]) - self.mu_th)\n",
    "\n",
    "        self.delta_i[self.i_star] = self.delta_i[self.i_star_star]\n",
    "        self.delta_i_attr[self.i_star] = abs(min(self.mu_ij[self.i_star]) - self.mu_th)\n",
    "\n",
    "        return self.delta_i[self.i_star], self.delta_i_attr\n",
    "    \n",
    "    def H_index(self):\n",
    "        self.i_star = 0                 ## best arm in the feasible set\n",
    "        self.i_star_star = 1            ## best arm in suboptimal set\n",
    "\n",
    "        self.delta_i = [0 for i in range (self.N)]\n",
    "        self.delta_ij = [[0 for i in range (self.M)] for j in range (self.N)]\n",
    "        self.delta_i_attr = [0 for i in range (self.N)]\n",
    "\n",
    "         ### assume that always i_star is 0 ###\n",
    "        \n",
    "        all_arms = list(range(0, self.N))\n",
    "\n",
    "        self.perfect_feasible = get_perfect_feasible_set(self.mu_th, self.mu_ij)\n",
    "        self.i_star = best_arm(self.mu_i, self.perfect_feasible)\n",
    "\n",
    "        self.suboptimal = get_suboptimal_arm(self.mu_i[self.i_star], self.mu_i, all_arms)\n",
    "        self.i_star_star = best_arm(self.mu_i, self.suboptimal)\n",
    "        \n",
    "        self.risky = difference(all_arms, self.suboptimal)\n",
    "        self.infeasible = difference(all_arms, self.perfect_feasible) \n",
    "\n",
    "        for i in range (self.N):\n",
    "            if (i != self.i_star):\n",
    "                self.delta_i[i] = self.mu_i[self.i_star] - self.mu_i[i]\n",
    "                self.delta_i_attr[i] = abs(min(self.mu_ij[i]) - self.mu_th)\n",
    "\n",
    "        self.delta_i[self.i_star] = self.delta_i[self.i_star_star]\n",
    "        self.delta_i_attr[self.i_star] = abs(min(self.mu_ij[self.i_star]) - self.mu_th)\n",
    "        # print(self.delta_i_attr)\n",
    "\n",
    "        self.set1 = intersection(self.perfect_feasible, self.suboptimal)\n",
    "        self.set2 = intersection(self.infeasible, self.risky)\n",
    "        self.set3 = intersection(self.infeasible, self.suboptimal)\n",
    "\n",
    "        h0_den = (min(self.delta_i[self.i_star]/2, self.delta_i_attr[self.i_star]))**2\n",
    "        h0 = 1/h0_den\n",
    "\n",
    "        h1 = 0\n",
    "        for i in self.set1:\n",
    "            h1 += 4/(self.delta_i[i])**2\n",
    "\n",
    "        h2 = 0\n",
    "        for i in self.set2:\n",
    "            h2 += 1/(self.delta_i_attr[i])**2\n",
    "\n",
    "        h3 = 0\n",
    "        for i in self.set3:\n",
    "            h3 += 1/(max(self.delta_i[i]/2, self.delta_i_attr[i]))**2\n",
    "            # h3 += 5*np.exp((1/(max(self.delta_i[i]/2, 2*self.delta_i_attr[i]))**2)/192)\n",
    "\n",
    "        h_index = h0 + h1 + h2 + h3\n",
    "        # print(self.delta_i_attr[1])\n",
    "        # print(h0, h1, h2, h3)\n",
    "        # print(self.set2)\n",
    "\n",
    "        return h_index\n",
    "\n",
    "        "
   ]
  },
  {
   "cell_type": "markdown",
   "metadata": {},
   "source": [
    "# Main Function"
   ]
  },
  {
   "cell_type": "markdown",
   "metadata": {},
   "source": [
    "## Feasibility"
   ]
  },
  {
   "cell_type": "code",
   "execution_count": 17,
   "metadata": {},
   "outputs": [],
   "source": [
    "def game(M, N, mu_th, delta):\n",
    "    T_t_attr = [[0 for i in range (M)] for j in range (N)]\n",
    "    T_t = [0 for i in range (N)]\n",
    "    t = 1\n",
    "    theGame = Oracle(M, N, mu_th)\n",
    "    final_feasible_set = []\n",
    "\n",
    "    h_idx, h_idx_old = 0, 0\n",
    "    # h_idx_old = theGame.H_index_old()\n",
    "    # h_idx = theGame.H_index()\n",
    "\n",
    "    mu_hat_i = [0 for i in range (N)]\n",
    "    mu_hat_ij = [[0 for i in range (M)] for j in range (N)]\n",
    "\n",
    "    LCB = [0 for i in range (N)]\n",
    "    UCB = [0 for i in range (N)]\n",
    "    alpha = [0 for i in range(N)]\n",
    "\n",
    "    LCB_attr = [[0 for i in range (M)] for j in range (N)]\n",
    "    UCB_attr = [[0 for i in range (M)] for j in range (N)]\n",
    "\n",
    "    T_unif = 20\n",
    "\n",
    "    delta_i, delta_i_attr = theGame.hardness()\n",
    "\n",
    "    for j in range (T_unif):\n",
    "        ## 20 times uniform exploration\n",
    "        for i in range (N):\n",
    "            for k in range (M):\n",
    "                reward_arm = theGame.play(i, k)\n",
    "                mu_hat_ij[i][k] = (mu_hat_ij[i][k] * T_t_attr[i][k] + reward_arm)/(T_t_attr[i][k] + 1)\n",
    "                T_t_attr[i][k] += 1\n",
    "            mu_hat_i[i] = sum(mu_hat_ij[i])/M\n",
    "            T_t[i] = min(T_t_attr[i])\n",
    "\n",
    "    all_arms = list(range(0, N))\n",
    "    feasible = list(range(0, N))\n",
    "    t += N*T_unif*M\n",
    "\n",
    "    ### further pulls\n",
    "\n",
    "    while(True):\n",
    "        ## arm wise margins\n",
    "        for i in range (N):\n",
    "            LCB[i], UCB[i] = get_margins(mu_hat_i[i], N, M, t, T_t[i], delta)\n",
    "            # LCB[i], UCB[i] = get_margins_ae(mu_hat_i[i], T_t[i], delta, N)\n",
    "            alpha[i] = mu_hat_i[i] - LCB[i]\n",
    "\n",
    "        ## attribute wise margins\n",
    "        for i in range (N):\n",
    "            for j in range (M):\n",
    "                LCB_attr[i][j], UCB_attr[i][j] = get_margins(mu_hat_ij[i][j], N, M, t, T_t_attr[i][j], delta)\n",
    "                # LCB_attr[i][j], UCB_attr[i][j] = get_margins_ae(mu_hat_ij[i][j], T_t[i], delta, N)\n",
    "\n",
    "        # print(\"t: \", t, \"T: \", T_t, \"alpha: \", alpha, \"mu: \", mu_hat_i)\n",
    "        \n",
    "        perfect_feasible = get_perfect_feasible_set(mu_th, LCB_attr)\n",
    "        feasible = get_feasible_set(mu_th, UCB_attr)\n",
    "        possibly_feasible = difference(feasible, perfect_feasible)\n",
    "\n",
    "        perfect_feasible_attr = get_perfect_feasible_attr_set(mu_th, LCB_attr)                  ## this is the surely feasible set\n",
    "        possibly_feasible_attr = get_possibly_feasible_attr_set(mu_th, LCB_attr, UCB_attr)               ## this is the dell f set\n",
    "\n",
    "        # if(len(perfect_feasible) != 0):\n",
    "        #     i_star_t = best_arm(mu_hat_i, perfect_feasible)\n",
    "        # else:\n",
    "        #     i_star_t = mu_hat_i.index(max(mu_hat_i))\n",
    "\n",
    "        # if (len(feasible) != 0):\n",
    "        #     i_t = best_arm(mu_hat_i, feasible)\n",
    "\n",
    "        ## potential set is the set of arms which have more UCB than the  current best arm mean, irrespective of feasibility\n",
    "        # if (len(perfect_feasible) == 0):\n",
    "        #     potential = all_arms\n",
    "        # else:\n",
    "        #     potential = get_potential_set(i_star_t, LCB[i_star_t], UCB)\n",
    "        \n",
    "        # pot_intersect_feas = intersection(potential, feasible)\n",
    "\n",
    "        # print(\"Feasible: \", feasible, \"Perfect feasible: \", perfect_feasible, \"Potential: \", potential, \"mu_hat for all\", mu_hat_i, \"UCB of all: \", UCB, \"LCB for all: \", LCB)\n",
    "        # print(\"Feasible: \", feasible, \"Perfect feasible: \", perfect_feasible, \"mu_hat for all\", mu_hat_i, \"alpha: \", alpha)\n",
    "\n",
    "        #  \"i_t: \", i_t, \"i_star: \", i_star_t,\n",
    "\n",
    "        ## Stopping criteria\n",
    "        if (len(possibly_feasible_attr) == 0):\n",
    "            return perfect_feasible, t, delta_i, delta_i_attr\n",
    "            # if(len(perfect_feasible) == 0):\n",
    "            #     f_hat = 0\n",
    "            #     i_out = N\n",
    "            # else:\n",
    "            #     f_hat = 1\n",
    "            #     i_out = i_t\n",
    "            # return i_out, f_hat, t, h_idx_old, h_idx\n",
    "        \n",
    "        for i, j in possibly_feasible_attr:\n",
    "            reward_arm = theGame.play(i, j)\n",
    "            t += 1\n",
    "            mu_hat_ij[i][j] = (mu_hat_ij[i][j] * T_t_attr[i][j] + reward_arm)/(T_t_attr[i][j] + 1)\n",
    "            T_t_attr[i][j] += 1\n",
    "            T_t[i] = min(T_t_attr[i])\n",
    "\n",
    "        \n",
    "        # if (len(possibly_feasible_attr) == 1):\n",
    "        #     i_t = best_arm(mu_hat_i, possibly_feasible_attr)\n",
    "        #     arm_next1 = i_t\n",
    "        #     arm_next2 = i_t\n",
    "        # else:\n",
    "        #     i_t = best_arm(mu_hat_i, possibly_feasible)\n",
    "        #     c_t = potentially_competitor_arm(UCB, possibly_feasible, i_t)\n",
    "        #     arm_next1 = i_t\n",
    "        #     arm_next2 = c_t\n",
    "\n",
    "        # ## play the 2 arms found above\n",
    "        # reward_arm1 = theGame.play(arm_next1)\n",
    "        # reward_arm2 = theGame.play(arm_next2)\n",
    "        # t += 2\n",
    "\n",
    "        # for j in range (M):\n",
    "        #     mu_hat_ij[arm_next1][j] = (mu_hat_ij[arm_next1][j] * T_t[arm_next1] + reward_arm1[j])/(T_t[arm_next1] + 1)\n",
    "        #     mu_hat_ij[arm_next2][j] = (mu_hat_ij[arm_next2][j] * T_t[arm_next2] + reward_arm2[j])/(T_t[arm_next2] + 1)\n",
    "        # mu_hat_i[arm_next1] = sum(mu_hat_ij[arm_next1])/M\n",
    "        # mu_hat_i[arm_next2] = sum(mu_hat_ij[arm_next2])/M\n",
    "        # T_t[arm_next1] += 1\n",
    "        # T_t[arm_next2] += 1\n"
   ]
  },
  {
   "cell_type": "markdown",
   "metadata": {},
   "source": [
    "## Best arm"
   ]
  },
  {
   "cell_type": "code",
   "execution_count": 18,
   "metadata": {},
   "outputs": [],
   "source": [
    "def best_feasible_arm(M, N, arms, delta, mu_th):\n",
    "    t = 1\n",
    "    ### if only one feasible arm ###\n",
    "    if (len(arms) == 1):\n",
    "        return arms[0], t\n",
    "    ################################\n",
    "\n",
    "    # N = len(arms)\n",
    "    T_t = [0 for i in range (N)]\n",
    "    T_t_attr = [[0 for i in range (M)] for j in range (N)]\n",
    "    t = 1\n",
    "    theGame = Oracle(M, N, mu_th)\n",
    "\n",
    "    h_idx, h_idx_old = 0, 0\n",
    "    # h_idx_old = theGame.H_index_old()\n",
    "    # h_idx = theGame.H_index()\n",
    "\n",
    "    mu_hat_i = [0 for i in range (N)]\n",
    "    mu_hat_ij = [[0 for i in range (M)] for j in range (N)]\n",
    "\n",
    "    LCB = [0 for i in range (N)]\n",
    "    UCB = [0 for i in range (N)]\n",
    "    # alpha = [0 for i in range(N)]\n",
    "\n",
    "    LCB_attr = [[0 for i in range (M)] for j in range (N)]\n",
    "    UCB_attr = [[0 for i in range (M)] for j in range (N)]\n",
    "\n",
    "    T_unif = 20\n",
    "\n",
    "    for j in range (T_unif):\n",
    "        ## 20 times uniform exploration\n",
    "        for i in range (len(arms)):\n",
    "            arm = arms[i]\n",
    "            for k in range(M):\n",
    "                reward_arm = theGame.play(arm, k)\n",
    "                mu_hat_ij[arm][k] = (mu_hat_ij[arm][k] * T_t_attr[arm][k] + reward_arm)/(T_t_attr[arm][k] + 1)\n",
    "                T_t_attr[arm][k] += 1\n",
    "            mu_hat_i[arm] = sum(mu_hat_ij[arm])/M\n",
    "            T_t[arm] = min(T_t_attr[arm])\n",
    "\n",
    "    all_arms = arms\n",
    "    # feasible = list(range(0, N))\n",
    "    t += N*T_unif\n",
    "\n",
    "    ############### Uniform exploration done ########################\n",
    "    while(True):\n",
    "        for i in range (len(arms)):\n",
    "            arm = arms[i]\n",
    "            LCB[arm], UCB[arm] = get_margins_ae(mu_hat_i[arm], T_t[arm], delta, N)\n",
    "\n",
    "        # print(arms)\n",
    "        i_star_t = best_arm(mu_hat_i, arms)\n",
    "\n",
    "        E = []\n",
    "        for i in range (len(arms)):\n",
    "            arm = arms[i]\n",
    "            if UCB[arm] < LCB[i_star_t]:\n",
    "                E.append(arm)\n",
    "        # print(E)\n",
    "        arms = difference(arms, E)\n",
    "        # print(arms)\n",
    "        # ic(arms, E)\n",
    "        # ic(LCB, UCB, i_star_t)\n",
    "        if len(arms) == 1:\n",
    "            return arms[0], t\n",
    "\n",
    "        for i in range (len(arms)):\n",
    "            arm = arms[i]\n",
    "            for k in range(M):\n",
    "                reward_arm = theGame.play(arm, k)\n",
    "                mu_hat_ij[arm][k] = (mu_hat_ij[arm][k] * T_t_attr[arm][k] + reward_arm)/(T_t_attr[arm][k] + 1)\n",
    "                T_t_attr[arm][k] += 1\n",
    "            mu_hat_i[arm] = sum(mu_hat_ij[arm])/M\n",
    "            T_t[arm] = min(T_t_attr[arm])\n",
    "            t += M"
   ]
  },
  {
   "cell_type": "markdown",
   "metadata": {},
   "source": [
    "# Tests"
   ]
  },
  {
   "cell_type": "markdown",
   "metadata": {},
   "source": [
    "## Single Instance"
   ]
  },
  {
   "cell_type": "code",
   "execution_count": 19,
   "metadata": {},
   "outputs": [],
   "source": [
    "# self.mu_ij[0] = np.array([0.9, 0.1])        #0.5\n",
    "#         self.mu_ij[1] = np.array([0.9, 0.5])        #0.7\n",
    "#         self.mu_ij[2] = np.array([0.7, 0.5])        #0.35\n",
    "#         self.mu_ij[3] = np.array([0.5, 0.3])        #0.4\n",
    "#         self.mu_ij[4] = np.array([0.5, 0.1])        #0.3\n",
    "\n",
    "# self.ab_array[0] = np.array([[1, 0.11], [1, 9]])            #0.5\n",
    "# self.ab_array[1] = np.array([[1, 0.11], [1, 1]])            #0.2\n",
    "# self.ab_array[2] = np.array([[1, 0.42], [1, 1]])             #0.3\n",
    "# self.ab_array[3] = np.array([[1, 1], [1, 2.33]])           #0.4\n",
    "# self.ab_array[4] = np.array([[1, 1], [1, 9]])               #0.3\n",
    "\n",
    "# mu_th = 0.3"
   ]
  },
  {
   "cell_type": "code",
   "execution_count": 21,
   "metadata": {},
   "outputs": [
    {
     "ename": "ValueError",
     "evalue": "too many values to unpack (expected 2)",
     "output_type": "error",
     "traceback": [
      "\u001b[1;31m---------------------------------------------------------------------------\u001b[0m",
      "\u001b[1;31mValueError\u001b[0m                                Traceback (most recent call last)",
      "Cell \u001b[1;32mIn[21], line 9\u001b[0m\n\u001b[0;32m      7\u001b[0m samples_all \u001b[38;5;241m=\u001b[39m []\n\u001b[0;32m      8\u001b[0m \u001b[38;5;28;01mfor\u001b[39;00m i \u001b[38;5;129;01min\u001b[39;00m \u001b[38;5;28mrange\u001b[39m (N_iter):\n\u001b[1;32m----> 9\u001b[0m     feasible_set, samples_1 \u001b[38;5;241m=\u001b[39m game(M, N, mu_th\u001b[38;5;241m=\u001b[39m\u001b[38;5;241m0.23\u001b[39m, delta\u001b[38;5;241m=\u001b[39m\u001b[38;5;241m0.1\u001b[39m)\n\u001b[0;32m     10\u001b[0m     \u001b[38;5;66;03m# print(feasible_set, samples_1)\u001b[39;00m\n\u001b[0;32m     11\u001b[0m     best_arm_guess, samples_2 \u001b[38;5;241m=\u001b[39m best_feasible_arm(M, N, feasible_set, delta \u001b[38;5;241m=\u001b[39m \u001b[38;5;241m0.1\u001b[39m, mu_th \u001b[38;5;241m=\u001b[39m \u001b[38;5;241m0.4\u001b[39m)\n",
      "\u001b[1;31mValueError\u001b[0m: too many values to unpack (expected 2)"
     ]
    }
   ],
   "source": [
    "N = 5\n",
    "M = 2\n",
    "x = 0.9\n",
    "best_arm_identified = []\n",
    "N_iter = 10\n",
    "count = [0 for i in range (N+1)]\n",
    "samples_all = []\n",
    "for i in range (N_iter):\n",
    "    feasible_set, samples_1 = game(M, N, mu_th=0.23, delta=0.1)\n",
    "    # print(feasible_set, samples_1)\n",
    "    best_arm_guess, samples_2 = best_feasible_arm(M, N, feasible_set, delta = 0.1, mu_th = 0.4)\n",
    "    samples = samples_1 + samples_2\n",
    "    samples_all.append(samples)\n",
    "    best_arm_identified.append(best_arm_guess)\n",
    "    print(samples_1, samples_2, best_arm_guess)\n",
    "    count[best_arm_guess] += 1\n",
    "    # print(count)\n",
    "    # print(feasible_set)\n",
    "    # print(\"Done\")\n",
    "# print(samples_all)\n"
   ]
  },
  {
   "cell_type": "markdown",
   "metadata": {},
   "source": [
    "## Multiple Instances"
   ]
  },
  {
   "cell_type": "markdown",
   "metadata": {},
   "source": [
    "#### Case 1a"
   ]
  },
  {
   "cell_type": "code",
   "execution_count": 32,
   "metadata": {},
   "outputs": [],
   "source": [
    "# self.ab_array[0] = np.array([[1, 1], [1, 0.67], [1, 0.43], [1, 0.43], [1, 0.25]])               \n",
    "# self.ab_array[1] = np.array([[1, (1/x)-1], [1, 4], [1, 1], [1, 0.43], [1, 0.25]])       \n",
    "# self.ab_array[2] = np.array([[1, 5.67], [1, 0.43], [1, 0.25], [1, 0.11], [1, 0.11]])              \n",
    "# self.ab_array[3] = np.array([[1, 4], [1, 0.43], [1, 0.11], [1, 0.11], [1, 0.25]])                  \n",
    "# self.ab_array[4] = np.array([[1, 9], [1, 0.11], [1, 0.11], [1, 0.25], [1, 0.25]])                \n",
    "\n",
    "# mu_th = 0.3"
   ]
  },
  {
   "cell_type": "code",
   "execution_count": 19,
   "metadata": {},
   "outputs": [
    {
     "name": "stderr",
     "output_type": "stream",
     "text": [
      "ic| samples_1: 2517, samples_2: 1\n",
      "ic| samples_1: 2498, samples_2: 1\n",
      "ic| samples_1: 2600, samples_2: 1\n",
      "ic| samples_1: 2414, samples_2: 1\n",
      "ic| samples_1: 2285, samples_2: 1\n",
      "ic| samples_1: 2290, samples_2: 1\n",
      "ic| samples_1: 2358, samples_2: 1\n",
      "ic| samples_1: 2077, samples_2: 1\n",
      "ic| samples_1: 2238, samples_2: 1\n"
     ]
    },
    {
     "name": "stdout",
     "output_type": "stream",
     "text": [
      "[2681.78, 2463.0, 2443.38, 2391.52, 2351.32, 2366.96, 2357.24, 2348.28, 2324.28]\n"
     ]
    }
   ],
   "source": [
    "N = 5\n",
    "M = 5\n",
    "N_iter = 50\n",
    "delta_ins = 0.1\n",
    "\n",
    "samples_ins = []\n",
    "x_val = []\n",
    "time_bound = []\n",
    "prob_success = []\n",
    "\n",
    "for x in [0.5, 0.55, 0.6, 0.65, 0.7, 0.75, 0.8, 0.85, 0.9]:\n",
    "    count = [0 for i in range (N+1)]\n",
    "    samples_all = []\n",
    "    for i in range (N_iter):\n",
    "        feasible_set, samples_1, delta_i, delta_i_attr = game(M, N, mu_th=0.35, delta=0.1)\n",
    "        # print(feasible_set)\n",
    "        best_arm_guess, samples_2 = best_feasible_arm(M, N, feasible_set, delta = 0.1, mu_th = 0.35)\n",
    "        samples = samples_1 + samples_2\n",
    "        samples_all.append(samples)\n",
    "        count[best_arm_guess] += 1\n",
    "\n",
    "    ic(samples_1, samples_2)\n",
    "    samples_ins.append(sum(samples_all)/N_iter)\n",
    "    # x_val.append(x)\n",
    "    x_val.append(1/delta_i)\n",
    "    # time = h_idx * math.log(h_idx/delta_ins)\n",
    "    # time_bound.append(time)\n",
    "    prob_success.append(count[0]/N_iter)\n",
    "    # print(\"Done\")\n",
    "print(samples_ins)\n"
   ]
  },
  {
   "cell_type": "code",
   "execution_count": 47,
   "metadata": {},
   "outputs": [
    {
     "name": "stdout",
     "output_type": "stream",
     "text": [
      "[13.333333333333341, 10.000000000000002, 8.0, 6.666666666666666, 5.714285714285713, 5.000000000000001]\n",
      "[169149.4, 96305.4, 61848.5, 46988.9, 36039.0, 28804.2]\n"
     ]
    }
   ],
   "source": [
    "print(x_val)\n",
    "print(samples_ins)"
   ]
  },
  {
   "cell_type": "code",
   "execution_count": 48,
   "metadata": {},
   "outputs": [],
   "source": [
    "with open(filename, 'r') as file:\n",
    "    # Create a CSV reader object\n",
    "    reader = csv.reader(file)\n",
    "\n",
    "    # Create a list to store the rows\n",
    "    rows = []\n",
    "\n",
    "    # Iterate over each row in the CSV file\n",
    "    for row in reader:\n",
    "        # Append the row to the list\n",
    "        rows.append(row)\n",
    "\n",
    "    # Modify the 4th row\n",
    "    rows[0] = x_val\n",
    "    rows[2] = samples_ins\n",
    "\n",
    "# Open the CSV file in write mode\n",
    "with open(filename, 'w', newline='') as file:\n",
    "    # Create a CSV writer object\n",
    "    writer = csv.writer(file)\n",
    "\n",
    "    # Write the modified rows to the CSV file\n",
    "    writer.writerows(rows)"
   ]
  },
  {
   "cell_type": "code",
   "execution_count": 49,
   "metadata": {},
   "outputs": [
    {
     "data": {
      "image/png": "[encoded data removed]",
      "text/plain": [
       "<Figure size 640x480 with 1 Axes>"
      ]
     },
     "metadata": {},
     "output_type": "display_data"
    }
   ],
   "source": [
    "plt.title(\"Number of plays required with varying mean\")\n",
    "plt.xlabel(\"Hardness\")\n",
    "plt.ylabel(\"Samples required\")\n",
    "plt.plot(x_val, samples_ins)\n",
    "plt.show()"
   ]
  },
  {
   "cell_type": "markdown",
   "metadata": {},
   "source": [
    "#### Case 1b"
   ]
  },
  {
   "cell_type": "code",
   "execution_count": null,
   "metadata": {},
   "outputs": [],
   "source": [
    "# self.ab_array[0] = np.array([[1, (1/x)-1], [1, 0.67], [1, 0.43], [1, 0.67], [1, 0.43]])               \n",
    "# self.ab_array[1] = np.array([[1, 1.5], [1, 4], [1, 1.5], [1, 1.5], [1, 1.22]])       \n",
    "# self.ab_array[2] = np.array([[1, 5.67], [1, 0.43], [1, 0.25], [1, 0.11], [1, 0.11]])              \n",
    "# self.ab_array[3] = np.array([[1, (1/x)-1], [1, 1], [1, 0.67], [1, 0.11], [1, 1]])                  \n",
    "# self.ab_array[4] = np.array([[1, (1/x)-1], [1, 1.86], [1, 1.86], [1, 0.25], [1, 0.11]])\n",
    "\n",
    "# mu_th = 0.3"
   ]
  },
  {
   "cell_type": "code",
   "execution_count": 29,
   "metadata": {},
   "outputs": [
    {
     "name": "stderr",
     "output_type": "stream",
     "text": [
      "ic| samples_1: 340970, samples_2: 7647016\n",
      "ic| samples_1: 82661, samples_2: 7608501\n",
      "ic| samples_1: 48730, samples_2: 7865421\n",
      "ic| samples_1: 32402, samples_2: 7136361\n",
      "ic| samples_1: 23541, samples_2: 7756456\n"
     ]
    },
    {
     "name": "stdout",
     "output_type": "stream",
     "text": [
      "[7987986.0, 7691162.0, 7914151.0, 7168763.0, 7779997.0]\n"
     ]
    }
   ],
   "source": [
    "N = 5\n",
    "M = 5\n",
    "N_iter = 1\n",
    "delta_ins = 0.1\n",
    "\n",
    "samples_ins = []\n",
    "x_val = []\n",
    "time_bound = []\n",
    "prob_success = []\n",
    "\n",
    "for x in  [0.31, 0.32, 0.33, 0.34, 0.35]:\n",
    "# for x in [0.41, 0.42, 0.43, 0.44, 0.45]:\n",
    "    count = [0 for i in range (N+1)]\n",
    "    samples_all = []\n",
    "    for i in range (N_iter):\n",
    "        feasible_set, samples_1, delta_i, delta_i_attr = game(M, N, mu_th=0.3, delta=0.1)\n",
    "        # print(feasible_set)\n",
    "        best_arm_guess, samples_2 = best_feasible_arm(M, N, feasible_set, delta = 0.1, mu_th = 0.3)\n",
    "        samples = samples_1 + samples_2\n",
    "        samples_all.append(samples)\n",
    "        count[best_arm_guess] += 1\n",
    "\n",
    "    ic(samples_1, samples_2)\n",
    "    samples_ins.append(sum(samples_all)/N_iter)\n",
    "    # x_val.append(x)\n",
    "    x_val.append(1/delta_i)\n",
    "    # time = h_idx * math.log(h_idx/delta_ins)\n",
    "    # time_bound.append(time)\n",
    "    prob_success.append(count[0]/N_iter)\n",
    "    # print(\"Done\")\n",
    "print(samples_ins)\n"
   ]
  },
  {
   "cell_type": "code",
   "execution_count": 31,
   "metadata": {},
   "outputs": [
    {
     "name": "stdout",
     "output_type": "stream",
     "text": [
      "[33.57019431409934, 28.74527241173159, 25.132998036340915, 22.32724501122128, 20.24242424242423]\n",
      "[7987986.0, 7691162.0, 7914151.0, 7168763.0, 7779997.0]\n"
     ]
    }
   ],
   "source": [
    "print(x_val)\n",
    "print(samples_ins)"
   ]
  },
  {
   "cell_type": "code",
   "execution_count": 27,
   "metadata": {},
   "outputs": [
    {
     "name": "stdout",
     "output_type": "stream",
     "text": [
      "[1.0, 1.0, 1.0, 1.0, 1.0]\n"
     ]
    }
   ],
   "source": [
    "print(prob_success)"
   ]
  },
  {
   "cell_type": "code",
   "execution_count": 23,
   "metadata": {},
   "outputs": [
    {
     "data": {
      "image/png": "[encoded data removed]",
      "text/plain": [
       "<Figure size 640x480 with 1 Axes>"
      ]
     },
     "metadata": {},
     "output_type": "display_data"
    }
   ],
   "source": [
    "plt.title(\"Number of plays required with varying mean\")\n",
    "plt.xlabel(\"Hardness\")\n",
    "plt.ylabel(\"Samples required\")\n",
    "plt.plot(x_val, samples_ins)\n",
    "plt.show()"
   ]
  },
  {
   "cell_type": "markdown",
   "metadata": {},
   "source": [
    "#### Case 2"
   ]
  },
  {
   "cell_type": "code",
   "execution_count": null,
   "metadata": {},
   "outputs": [],
   "source": [
    "# self.ab_array[0] = np.array([[1, 0.43], [1, 0.67], [1, 0.25], [1, 0.43], [1, 0.11]])               \n",
    "# self.ab_array[1] = np.array([[1, 0.43], [1, (1/x)-1], [1, 0.43], [1, 0.43], [1, 0.25]])       \n",
    "# self.ab_array[2] = np.array([[1, 5.67], [1, 0.43], [1, 0.25], [1, 0.11], [1, 0.11]])              \n",
    "# self.ab_array[3] = np.array([[1, 5.67], [1, 0.11], [1, 0.11], [1, 0.11], [1, 0.25]])                  \n",
    "# self.ab_array[4] = np.array([[1, 9], [1, 0.11], [1, 0.11], [1, 0.25], [1, 0.25]])\n",
    "\n",
    "# mu_th = 0.3\n"
   ]
  },
  {
   "cell_type": "code",
   "execution_count": 22,
   "metadata": {},
   "outputs": [
    {
     "name": "stderr",
     "output_type": "stream",
     "text": [
      "ic| samples_1: 1595, samples_2: 587361\n",
      "ic| samples_1: 1598, samples_2: 812501\n",
      "ic| samples_1: 1443, samples_2: 1198901\n",
      "ic| samples_1: 1435, samples_2: 1760111\n",
      "ic| samples_1: 1571, samples_2: 3153401\n",
      "ic| samples_1: 1457, samples_2: 6572061\n"
     ]
    },
    {
     "name": "stdout",
     "output_type": "stream",
     "text": [
      "[596927.8, 813640.0, 1193088.4, 1809541.2, 3088098.5, 6376937.6]\n"
     ]
    }
   ],
   "source": [
    "N = 5\n",
    "M = 5\n",
    "N_iter = 10\n",
    "delta_ins = 0.1\n",
    "\n",
    "samples_ins = []\n",
    "x_val = []\n",
    "time_bound = []\n",
    "prob_success = []\n",
    "\n",
    "for x in [0.5, 0.54, 0.58, 0.62, 0.66, 0.7]:\n",
    "    count = [0 for i in range (N+1)]\n",
    "    samples_all = []\n",
    "    for i in range (N_iter):\n",
    "        feasible_set, samples_1, delta_i, delta_i_attr = game(M, N, mu_th=0.3, delta=0.1)\n",
    "        # print(feasible_set)\n",
    "        best_arm_guess, samples_2 = best_feasible_arm(M, N, feasible_set, delta = 0.1, mu_th = 0.3)\n",
    "        samples = samples_1 + samples_2\n",
    "        samples_all.append(samples)\n",
    "        count[best_arm_guess] += 1\n",
    "\n",
    "    ic(samples_1, samples_2)\n",
    "    samples_ins.append(sum(samples_all)/N_iter)\n",
    "    # x_val.append(x)\n",
    "    x_val.append(1/delta_i)\n",
    "    # time = h_idx * math.log(h_idx/delta_ins)\n",
    "    # time_bound.append(time)\n",
    "    prob_success.append(count[0]/N_iter)\n",
    "    # print(\"Done\")\n",
    "print(samples_ins)\n"
   ]
  },
  {
   "cell_type": "code",
   "execution_count": 54,
   "metadata": {},
   "outputs": [
    {
     "name": "stdout",
     "output_type": "stream",
     "text": [
      "[12.531274160045433, 9.5419533300234, 7.704139775401861, 6.459933927473874, 5.561724592685074, 4.882804276972437]\n",
      "[35076.52, 28889.2, 24035.08, 20713.75, 18133.93, 16518.59]\n"
     ]
    }
   ],
   "source": [
    "print(x_val)\n",
    "print(samples_ins)"
   ]
  },
  {
   "cell_type": "code",
   "execution_count": 55,
   "metadata": {},
   "outputs": [
    {
     "data": {
      "image/png": "[encoded data removed]",
      "text/plain": [
       "<Figure size 640x480 with 1 Axes>"
      ]
     },
     "metadata": {},
     "output_type": "display_data"
    }
   ],
   "source": [
    "plt.title(\"Number of plays required with varying mean\")\n",
    "plt.xlabel(\"Hardness\")\n",
    "plt.ylabel(\"Samples required\")\n",
    "plt.plot(x_val, samples_ins)\n",
    "plt.show()"
   ]
  },
  {
   "cell_type": "markdown",
   "metadata": {},
   "source": [
    "#### Case 3"
   ]
  },
  {
   "cell_type": "code",
   "execution_count": 50,
   "metadata": {},
   "outputs": [],
   "source": [
    "# self.mu_ij[0] = np.array([0.5, 0.6, 0.6, 0.5, 0.8])               #0.6\n",
    "#         self.mu_ij[1] = np.array([0.7, 0.5, 0.4, 0.4, 0.6])        #0.58\n",
    "#         self.mu_ij[2] = np.array([x, 0.5, 0.9, 0.8, 0.9])        #0.68\n",
    "#         self.mu_ij[3] = np.array([0.6, 0.2, 0.4, 0.7, 0.6])        #0.5\n",
    "#         self.mu_ij[4] = np.array([0.3, 0.7, 0.4, 0.9, 0.5])        #0.56\n",
    "\n",
    "# self.ab_array[0] = np.array([[1, 1], [1, 0.67], [1, 0.67], [1, 1], [1, 0.25]])            #0.6\n",
    "# self.ab_array[1] = np.array([[1, 0.43], [1, 1], [1, 1.5], [1, 1.5], [1, 0.67]])          #0.58\n",
    "# self.ab_array[2] = np.array([[1, (1/x)-1], [1, 1], [1, 0.11], [1, 0.25], [1, 0.11]])         #0.68\n",
    "# self.ab_array[3] = np.array([[1, 0.67], [1, 4], [1, 1.5], [1, 0.43], [1, 0.67]])          #0.5\n",
    "# self.ab_array[4] = np.array([[1, 2.33], [1, 0.43], [1, 1.5], [1, 0.11], [1, 1]])          #0.56\n",
    "\n",
    "# mu_th = 0.35\n",
    "\n",
    "# x varies from 0.05 to 0.34"
   ]
  },
  {
   "cell_type": "code",
   "execution_count": 19,
   "metadata": {},
   "outputs": [
    {
     "name": "stderr",
     "output_type": "stream",
     "text": [
      "ic| samples_1: 19819, samples_2: 330261\n",
      "ic| samples_1: 21477, samples_2: 339951\n",
      "ic| samples_1: 22436, samples_2: 320211\n",
      "ic| samples_1: 21208, samples_2: 315801\n",
      "ic| samples_1: 20978, samples_2: 317641\n",
      "ic| samples_1: 26527, samples_2: 332811\n"
     ]
    },
    {
     "name": "stdout",
     "output_type": "stream",
     "text": [
      "[345646.8, 346981.8, 347837.1, 343301.9, 344711.9, 350444.6]\n"
     ]
    }
   ],
   "source": [
    "N = 5\n",
    "M = 5\n",
    "N_iter = 10\n",
    "delta_ins = 0.1\n",
    "\n",
    "samples_ins = []\n",
    "x_val = []\n",
    "time_bound = []\n",
    "prob_success = []\n",
    "\n",
    "for x in [0.05, 0.1, 0.15, 0.2, 0.25, 0.3]:\n",
    "    count = [0 for i in range (N+1)]\n",
    "    samples_all = []\n",
    "    for i in range (N_iter):\n",
    "        feasible_set, samples_1, delta_i, delta_i_attr = game(M, N, mu_th=0.35, delta=0.1)\n",
    "        # print(feasible_set)\n",
    "        best_arm_guess, samples_2 = best_feasible_arm(M, N, feasible_set, delta = 0.1, mu_th = 0.35)\n",
    "        samples = samples_1 + samples_2\n",
    "        samples_all.append(samples)\n",
    "        count[best_arm_guess] += 1\n",
    "\n",
    "    ic(samples_1, samples_2)\n",
    "    samples_ins.append(sum(samples_all)/N_iter)\n",
    "    # x_val.append(x)\n",
    "    x_val.append(1/delta_i_attr[2])\n",
    "    # time = h_idx * math.log(h_idx/delta_ins)\n",
    "    # time_bound.append(time)\n",
    "    prob_success.append(count[0]/N_iter)\n",
    "    # print(\"Done\")\n",
    "print(samples_ins)\n"
   ]
  },
  {
   "cell_type": "code",
   "execution_count": 20,
   "metadata": {},
   "outputs": [
    {
     "name": "stdout",
     "output_type": "stream",
     "text": [
      "[3.3333333333333335, 4.000000000000001, 5.0, 6.666666666666668, 10.000000000000002, 20.000000000000004]\n",
      "[345646.8, 346981.8, 347837.1, 343301.9, 344711.9, 350444.6]\n"
     ]
    }
   ],
   "source": [
    "print(x_val)\n",
    "print(samples_ins)"
   ]
  },
  {
   "cell_type": "code",
   "execution_count": 52,
   "metadata": {},
   "outputs": [
    {
     "data": {
      "image/png": "[encoded data removed]",
      "text/plain": [
       "<Figure size 640x480 with 1 Axes>"
      ]
     },
     "metadata": {},
     "output_type": "display_data"
    }
   ],
   "source": [
    "plt.title(\"Number of plays required with varying mean\")\n",
    "plt.xlabel(\"Hardness\")\n",
    "plt.ylabel(\"Samples required\")\n",
    "plt.plot(x_val, samples_ins)\n",
    "plt.show()"
   ]
  },
  {
   "cell_type": "markdown",
   "metadata": {},
   "source": [
    "#### Case 4a"
   ]
  },
  {
   "cell_type": "code",
   "execution_count": null,
   "metadata": {},
   "outputs": [],
   "source": [
    "# self.mu_ij[0] = np.array([0.5, 0.6, 0.6, 0.5, 0.8])               #0.6\n",
    "#         self.mu_ij[1] = np.array([0.7, 0.5, 0.4, 0.4, 0.6])        #0.58\n",
    "#         self.mu_ij[2] = np.array([x, 0.5, 0.4, 0.8, 0.4])        #0.68\n",
    "#         self.mu_ij[3] = np.array([0.6, 0.2, 0.4, 0.7, 0.6])        #0.5\n",
    "#         self.mu_ij[4] = np.array([0.3, 0.7, 0.4, 0.9, 0.5])        #0.56\n",
    "\n",
    "# self.ab_array[0] = np.array([[1, 1], [1, 0.67], [1, 0.67], [1, 1], [1, 0.25]])            #0.6\n",
    "# self.ab_array[1] = np.array([[1, 0.43], [1, 1], [1, 1.5], [1, 1.5], [1, 0.67]])          #0.58\n",
    "# self.ab_array[2] = np.array([[1, (1/x)-1], [1, 1], [1, 1.5], [1, 0.25], [1, 1.5]])         #0.68\n",
    "# self.ab_array[3] = np.array([[1, 0.67], [1, 4], [1, 1.5], [1, 0.43], [1, 0.67]])          #0.5\n",
    "# self.ab_array[4] = np.array([[1, 2.33], [1, 0.43], [1, 1.5], [1, 0.11], [1, 1]])          #0.56\n",
    "\n",
    "# mu_th = 0.35\n",
    "\n",
    "# x varies from 0.05 to 0.28"
   ]
  },
  {
   "cell_type": "code",
   "execution_count": 55,
   "metadata": {},
   "outputs": [
    {
     "name": "stderr",
     "output_type": "stream",
     "text": [
      "ic| samples_1: 10264, samples_2: 23261\n",
      "ic| samples_1: 11555, samples_2: 22129\n",
      "ic| samples_1: 11409, samples_2: 22577\n",
      "ic| samples_1: 12149, samples_2: 14107\n",
      "ic| samples_1: 10258, samples_2: 16721\n",
      "ic| samples_1: 10114, samples_2: 10471\n",
      "ic| samples_1: 12209, samples_2: 9163\n"
     ]
    },
    {
     "name": "stdout",
     "output_type": "stream",
     "text": [
      "[40220.9, 33565.82, 29868.34, 26914.3, 24094.68, 21927.86, 20375.62]\n"
     ]
    }
   ],
   "source": [
    "N = 5\n",
    "M = 5\n",
    "N_iter = 10\n",
    "delta_ins = 0.1\n",
    "\n",
    "samples_ins = []\n",
    "x_val = []\n",
    "time_bound, time_bound_old = [], []\n",
    "prob_success = []\n",
    "\n",
    "for x in [0.05, 0.1, 0.15, 0.2, 0.25]:\n",
    "    count = [0 for i in range (N+1)]\n",
    "    samples_all = []\n",
    "    for i in range (N_iter):\n",
    "        feasible_set, samples_1, delta_i, delta_i_attr = game(M, N, mu_th=0.35, delta=0.1)\n",
    "        # print(feasible_set)\n",
    "        best_arm_guess, samples_2 = best_feasible_arm(M, N, feasible_set, delta = 0.1, mu_th = 0.35)\n",
    "        samples = samples_1 + samples_2\n",
    "        samples_all.append(samples)\n",
    "        count[best_arm_guess] += 1\n",
    "\n",
    "    ic(samples_1, samples_2)\n",
    "    samples_ins.append(sum(samples_all)/N_iter)\n",
    "    # x_val.append(x)\n",
    "    x_val.append(1/delta_i)\n",
    "    # time = h_idx * math.log(h_idx/delta_ins)\n",
    "    # time_bound.append(time)\n",
    "    prob_success.append(count[0]/N_iter)\n",
    "    # print(\"Done\")\n",
    "print(samples_ins)\n"
   ]
  },
  {
   "cell_type": "code",
   "execution_count": 56,
   "metadata": {},
   "outputs": [
    {
     "name": "stdout",
     "output_type": "stream",
     "text": [
      "[20.00000000000003, 13.333333333333321, 10.000000000000002, 8.0, 6.666666666666666, 5.714285714285716, 5.000000000000001]\n",
      "[40220.9, 33565.82, 29868.34, 26914.3, 24094.68, 21927.86, 20375.62]\n"
     ]
    }
   ],
   "source": [
    "print(x_val)\n",
    "print(samples_ins)"
   ]
  },
  {
   "cell_type": "code",
   "execution_count": 57,
   "metadata": {},
   "outputs": [
    {
     "data": {
      "image/png": "[encoded data removed]",
      "text/plain": [
       "<Figure size 640x480 with 1 Axes>"
      ]
     },
     "metadata": {},
     "output_type": "display_data"
    }
   ],
   "source": [
    "plt.title(\"Number of plays required with varying mean\")\n",
    "plt.xlabel(\"Hardness\")\n",
    "plt.ylabel(\"Samples required\")\n",
    "plt.plot(x_val, samples_ins)\n",
    "plt.show()"
   ]
  },
  {
   "cell_type": "markdown",
   "metadata": {},
   "source": [
    "#### Case 4b"
   ]
  },
  {
   "cell_type": "code",
   "execution_count": null,
   "metadata": {},
   "outputs": [],
   "source": [
    "# self.mu_ij[0] = np.array([0.5, 0.9, 0.6, 0.8, 0.8])               #0.6\n",
    "#         self.mu_ij[1] = np.array([0.7, 0.5, 0.4, 0.4, 0.6])        #0.58\n",
    "#         self.mu_ij[2] = np.array([0.3, 0.5, 0.4, 0.8, x])        #0.68\n",
    "#         self.mu_ij[3] = np.array([0.34, 0.34, 0.8, 0.7, 0.5])        #0.5\n",
    "#         self.mu_ij[4] = np.array([0.34, 0.7, 0.4, 0.9, 0.5])        #0.56  \n",
    "\n",
    "# self.ab_array[0] = np.array([[1, 1], [1, 0.11], [1, 0.67], [1, 0.25], [1, 0.25]])            #0.6\n",
    "# self.ab_array[1] = np.array([[1, 0.43], [1, 1], [1, 1.5], [1, 1.5], [1, 0.67]])          #0.58\n",
    "# self.ab_array[2] = np.array([[1, 2.33], [1, 1], [1, 1.5], [1, 0.25], [1, (1/x)-1]])         #0.68\n",
    "# self.ab_array[3] = np.array([[1, 1.94], [1, 1.94], [1, 0.25], [1, 0.43], [1, 1]])          #0.5\n",
    "# self.ab_array[4] = np.array([[1, 1.94], [1, 0.43], [1, 1.5], [1, 0.11], [1, 1]])          #0.56\n",
    "\n",
    "# mu_th = 0.35\n",
    "\n",
    "# x varies from 0.05 to 0.34"
   ]
  },
  {
   "cell_type": "code",
   "execution_count": 59,
   "metadata": {},
   "outputs": [
    {
     "name": "stderr",
     "output_type": "stream",
     "text": [
      "ic| samples_1: 8488, samples_2: 18629\n",
      "ic| samples_1: 9368, samples_2: 15277\n",
      "ic| samples_1: 8583, samples_2: 17757\n",
      "ic| samples_1: 9121, samples_2: 11331\n",
      "ic| samples_1: 7523, samples_2: 9873\n",
      "ic| samples_1: 9775, samples_2: 6677\n",
      "ic| samples_1: 8083, samples_2: 6533\n"
     ]
    },
    {
     "name": "stdout",
     "output_type": "stream",
     "text": [
      "[25951.0, 23476.0, 21779.3, 19331.1, 17762.6, 17158.3, 15049.1]\n"
     ]
    }
   ],
   "source": [
    "N = 5\n",
    "M = 5\n",
    "N_iter = 5\n",
    "delta_ins = 0.1\n",
    "\n",
    "samples_ins = []\n",
    "x_val = []\n",
    "time_bound, time_bound_old = [], []\n",
    "prob_success = []\n",
    "\n",
    "# for x in [0.36, 0.38, 0.4, 0.42, 0.44, 0.46, 0.48]:\n",
    "for x in [0.36, 0.39, 0.42, 0.45, 0.48]:\n",
    "    count = [0 for i in range (N+1)]\n",
    "    samples_all = []\n",
    "    for i in range (N_iter):\n",
    "        feasible_set, samples_1, delta_i, delta_i_attr = game(M, N, mu_th=0.35, delta=0.1)\n",
    "        # print(feasible_set)\n",
    "        best_arm_guess, samples_2 = best_feasible_arm(M, N, feasible_set, delta = 0.1, mu_th = 0.35)\n",
    "        samples = samples_1 + samples_2\n",
    "        samples_all.append(samples)\n",
    "        count[best_arm_guess] += 1\n",
    "\n",
    "    ic(samples_1, samples_2)\n",
    "    samples_ins.append(sum(samples_all)/N_iter)\n",
    "    # x_val.append(x)\n",
    "    x_val.append(1/delta_i)\n",
    "    # time = h_idx * math.log(h_idx/delta_ins)\n",
    "    # time_bound.append(time)\n",
    "    prob_success.append(count[0]/N_iter)\n",
    "    # print(\"Done\")\n",
    "    # print(count)\n",
    "print(samples_ins)\n"
   ]
  },
  {
   "cell_type": "code",
   "execution_count": 60,
   "metadata": {},
   "outputs": [
    {
     "name": "stdout",
     "output_type": "stream",
     "text": [
      "[9.965156794425095, 7.977684797768477, 6.6511627906976765, 5.702891326021935, 4.991273996509599, 4.437548487199381, 3.99441340782123]\n",
      "[25951.0, 23476.0, 21779.3, 19331.1, 17762.6, 17158.3, 15049.1]\n"
     ]
    }
   ],
   "source": [
    "print(x_val)\n",
    "print(samples_ins)"
   ]
  },
  {
   "cell_type": "code",
   "execution_count": 61,
   "metadata": {},
   "outputs": [
    {
     "data": {
      "image/png": "[encoded data removed]",
      "text/plain": [
       "<Figure size 640x480 with 1 Axes>"
      ]
     },
     "metadata": {},
     "output_type": "display_data"
    }
   ],
   "source": [
    "plt.title(\"Number of plays required with varying mean\")\n",
    "plt.xlabel(\"Hardness\")\n",
    "plt.ylabel(\"Samples required\")\n",
    "plt.plot(x_val, samples_ins)\n",
    "plt.show()"
   ]
  },
  {
   "cell_type": "markdown",
   "metadata": {},
   "source": [
    "#### Case 4b modif"
   ]
  },
  {
   "cell_type": "code",
   "execution_count": null,
   "metadata": {},
   "outputs": [],
   "source": [
    "# self.mu_ij[0] = np.array([0.6, 0.7])        #0.6\n",
    "#         self.mu_ij[1] = np.array([x, 0.9])        #0.5 - infeasible\n",
    "#         self.mu_ij[2] = np.array([0.3, 0.55])        #0.4 - infeasible\n",
    "#         self.mu_ij[3] = np.array([0.55, 0.55])        #0.5\n",
    "#         self.mu_ij[4] = np.array([0.2, 0.4])        #0.3 - infeasible\n",
    "\n",
    "# self.ab_array[0] = np.array([[1, 0.67], [1, 0.43]])               #0.5\n",
    "# self.ab_array[1] = np.array([[1, (1/x) - 1], [1, 0.11]])       #0.2\n",
    "# self.ab_array[2] = np.array([[1, 2.33], [1, 0.82]])               #0.3\n",
    "# self.ab_array[3] = np.array([[1, 0.82], [1, 0.82]])                  #0.4\n",
    "# self.ab_array[4] = np.array([[1, 4], [1, 1.5]])                #0.3\n",
    "\n",
    "# mu_th = 0.5\n",
    "\n",
    "# arms in set (infeasible intersection suboptimal)\n",
    "# max(delta_i/2, delta_i_attr)\n",
    "# delta_i/2 < delta_i_attr\n",
    "\n",
    "# 3 arms infeasible, all of them suboptimal\n",
    "# x, 1-x, x varying from 0.35 to 0.1\n",
    "# x = 0.1,0.8 mean = 0.45, delta_i/2 = 0.075\n",
    "# x = 0.3,0.8 mean = 0.55, delta_i/2 = 0.025\n",
    "# x = 0.35, 0.8, mean = 0.575, delta_i/2 = 0.0125\n",
    "\n"
   ]
  },
  {
   "cell_type": "code",
   "execution_count": 59,
   "metadata": {},
   "outputs": [
    {
     "name": "stderr",
     "output_type": "stream",
     "text": [
      "ic| samples_1: 11173, samples_2: 78765\n",
      "ic| samples_1: 15186, samples_2: 85021\n",
      "ic| samples_1: 15184, samples_2: 84185\n",
      "ic| samples_1: 13289, samples_2: 83989\n",
      "ic| samples_1: 12391, samples_2: 82549\n",
      "ic| samples_1: 15436, samples_2: 75305\n"
     ]
    },
    {
     "name": "stdout",
     "output_type": "stream",
     "text": [
      "[92733.8, 93145.74, 93420.46, 93833.34, 94964.65, 95736.21]\n"
     ]
    }
   ],
   "source": [
    "N = 5\n",
    "M = 2\n",
    "N_iter = 100\n",
    "delta_ins = 0.1\n",
    "\n",
    "samples_ins = []\n",
    "x_val = []\n",
    "time_bound = []\n",
    "prob_success = []\n",
    "\n",
    "for x in [0.36, 0.38, 0.4, 0.42, 0.44, 0.45]:\n",
    "# for x in [0.4, 0.42, 0.44, 0.45]\n",
    "    count = [0 for i in range (N+1)]\n",
    "    samples_all = []\n",
    "    for i in range (N_iter):\n",
    "        feasible_set, samples_1, delta_i, delta_i_attr = game(M, N, mu_th=0.5, delta=0.1)\n",
    "        # print(feasible_set)\n",
    "        best_arm_guess, samples_2 = best_feasible_arm(M, N, feasible_set, delta = 0.1, mu_th = 0.5)\n",
    "        samples = samples_1 + samples_2\n",
    "        samples_all.append(samples)\n",
    "        count[best_arm_guess] += 1\n",
    "\n",
    "    ic(samples_1, samples_2)\n",
    "    samples_ins.append(sum(samples_all)/N_iter)\n",
    "    # x_val.append(x)\n",
    "    x_val.append(1/delta_i_attr[1])\n",
    "    # time = h_idx * math.log(h_idx/delta_ins)\n",
    "    # time_bound.append(time)\n",
    "    prob_success.append(count[0]/N_iter)\n",
    "    # print(\"Done\")\n",
    "    # print(count)\n",
    "print(samples_ins)\n"
   ]
  },
  {
   "cell_type": "code",
   "execution_count": 60,
   "metadata": {},
   "outputs": [
    {
     "name": "stdout",
     "output_type": "stream",
     "text": [
      "[7.142857142857142, 8.33333333333333, 10.000000000000002, 12.499999999999998, 16.666666666666654, 19.999999999999982]\n",
      "[92733.8, 93145.74, 93420.46, 93833.34, 94964.65, 95736.21]\n"
     ]
    }
   ],
   "source": [
    "print(x_val)\n",
    "print(samples_ins)"
   ]
  },
  {
   "cell_type": "code",
   "execution_count": 61,
   "metadata": {},
   "outputs": [
    {
     "data": {
      "image/png": "[encoded data removed]",
      "text/plain": [
       "<Figure size 640x480 with 1 Axes>"
      ]
     },
     "metadata": {},
     "output_type": "display_data"
    }
   ],
   "source": [
    "plt.title(\"Number of plays required with varying mean\")\n",
    "plt.xlabel(\"Hardness\")\n",
    "plt.ylabel(\"Samples required\")\n",
    "plt.plot(x_val, samples_ins)\n",
    "plt.show()"
   ]
  },
  {
   "cell_type": "markdown",
   "metadata": {},
   "source": [
    "# Plotting"
   ]
  },
  {
   "cell_type": "code",
   "execution_count": 21,
   "metadata": {},
   "outputs": [],
   "source": [
    "with open(filename, 'r') as file:\n",
    "    # Create a CSV reader object\n",
    "    reader = csv.reader(file)\n",
    "\n",
    "    # Create a list to store the rows\n",
    "    rows = []\n",
    "\n",
    "    # Iterate over each row in the CSV file\n",
    "    for row in reader:\n",
    "        # Append the row to the list\n",
    "        rows.append(row)\n",
    "\n",
    "    # Modify the 4th row\n",
    "    rows[0] = x_val\n",
    "    rows[2] = samples_ins\n",
    "\n",
    "# Open the CSV file in write mode\n",
    "with open(filename, 'w', newline='') as file:\n",
    "    # Create a CSV writer object\n",
    "    writer = csv.writer(file)\n",
    "\n",
    "    # Write the modified rows to the CSV file\n",
    "    writer.writerows(rows)"
   ]
  }
 ],
 "metadata": {
  "kernelspec": {
   "display_name": "Python 3",
   "language": "python",
   "name": "python3"
  },
  "language_info": {
   "codemirror_mode": {
    "name": "ipython",
    "version": 3
   },
   "file_extension": ".py",
   "mimetype": "text/x-python",
   "name": "python",
   "nbconvert_exporter": "python",
   "pygments_lexer": "ipython3",
   "version": "3.10.5"
  }
 },
 "nbformat": 4,
 "nbformat_minor": 2
}
