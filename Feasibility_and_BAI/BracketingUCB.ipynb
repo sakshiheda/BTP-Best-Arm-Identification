{
 "cells": [
  {
   "cell_type": "code",
   "execution_count": 1,
   "metadata": {},
   "outputs": [],
   "source": [
    "import numpy as np\n",
    "import matplotlib.pyplot as plt\n",
    "import math"
   ]
  },
  {
   "cell_type": "code",
   "execution_count": 2,
   "metadata": {},
   "outputs": [],
   "source": [
    "x = 0"
   ]
  },
  {
   "cell_type": "markdown",
   "metadata": {},
   "source": [
    "# Functions required"
   ]
  },
  {
   "cell_type": "code",
   "execution_count": 4,
   "metadata": {},
   "outputs": [],
   "source": [
    "def confidence_radii(t, delta):\n",
    "    return math.sqrt(math.log(math.log(t)/delta)/t)"
   ]
  },
  {
   "cell_type": "code",
   "execution_count": 6,
   "metadata": {},
   "outputs": [],
   "source": [
    "def intersection(lst1, lst2):\n",
    "    temp = set(lst2)\n",
    "    lst3 = [value for value in lst1 if value in temp]\n",
    "    return lst3"
   ]
  },
  {
   "cell_type": "code",
   "execution_count": 7,
   "metadata": {},
   "outputs": [],
   "source": [
    "def difference(li1, li2):\n",
    "    s = set(li2)\n",
    "    temp3 = [x for x in li1 if x not in s]\n",
    "    return temp3"
   ]
  },
  {
   "cell_type": "markdown",
   "metadata": {},
   "source": [
    "# Oracle"
   ]
  },
  {
   "cell_type": "code",
   "execution_count": 5,
   "metadata": {},
   "outputs": [],
   "source": [
    "class Oracle:\n",
    "    def __init__(self, M, N, mu_th) -> None:\n",
    "        self.M = M\n",
    "        self.N = N\n",
    "        arms = 5\n",
    "        attributes = 2\n",
    "        self.mu_ij = [[0 for i in range (attributes)] for j in range (arms)]\n",
    "        self.ab_array = [[[0, 0] for i in range (attributes)] for j in range (arms)]\n",
    "        self.mu_i = [0 for i in range (arms)]\n",
    "\n",
    "        self.mu_th = mu_th\n",
    "        \n",
    "        ## fixing alpha at 1\n",
    "\n",
    "        self.ab_array[0] = np.array([[1, (1/x) - 1], [1, 0.01]])        #0.75 to 0.85\n",
    "        self.ab_array[1] = np.array([[1, 1.5], [1, 1.5]])            #0.4\n",
    "        self.ab_array[2] = np.array([[1, 4], [1, 1.5]])              #0.3\n",
    "        self.ab_array[3] = np.array([[1, 9], [1, 1]])                #0.3\n",
    "        self.ab_array[4] = np.array([[1, 1], [1, 2.33]])             #0.4\n",
    "\n",
    "        for i in range (arms):\n",
    "            for j in range (attributes):\n",
    "                alpha = self.ab_array[i][j][0]\n",
    "                beta = self.ab_array[i][j][1]\n",
    "                self.mu_ij[i][j] = alpha / (alpha + beta)\n",
    "\n",
    "\n",
    "        for i in range (len(self.mu_i)):\n",
    "            self.mu_i[i] = sum(self.mu_ij[i])/attributes\n",
    "\n",
    "    def play(self, arm):\n",
    "        reward = np.zeros(self.M)\n",
    "        for j in range(len(reward)):\n",
    "            alpha, beta = self.ab_array[arm][j]\n",
    "            reward[j] = np.random.beta(alpha, beta, 1)[0]\n",
    "        return reward\n",
    "    \n",
    "    # def H_index(self):\n",
    "    #     self.i_star = 0                 ## best arm in the feasible set\n",
    "    #     self.i_star_star = 1            ## best arm in suboptimal set\n",
    "\n",
    "    #     self.delta_i = [0 for i in range (self.N)]\n",
    "    #     self.delta_ij = [[0 for i in range (self.M)] for j in range (self.N)]\n",
    "    #     self.delta_i_attr = [0 for i in range (self.N)]\n",
    "\n",
    "    #      ### assume that always i_star is 0 ###\n",
    "        \n",
    "    #     all_arms = list(range(0, self.N))\n",
    "\n",
    "    #     self.perfect_feasible = get_perfect_feasible_set(self.mu_th, self.mu_ij)\n",
    "    #     self.i_star = best_arm(self.mu_i, self.perfect_feasible)\n",
    "\n",
    "    #     self.suboptimal = get_suboptimal_arm(self.mu_i[self.i_star], self.mu_i, all_arms)\n",
    "    #     self.i_star_star = best_arm(self.mu_i, self.suboptimal)\n",
    "        \n",
    "    #     self.risky = difference(all_arms, self.suboptimal)\n",
    "    #     self.infeasible = difference(all_arms, self.perfect_feasible) \n",
    "\n",
    "    #     for i in range (self.N):\n",
    "    #         if (i != self.i_star):\n",
    "    #             self.delta_i[i] = self.mu_i[self.i_star] - self.mu_i[i]\n",
    "    #             self.delta_i_attr[i] = abs(min(self.mu_ij[i]) - self.mu_th)\n",
    "\n",
    "    #     self.delta_i[self.i_star] = self.delta_i[self.i_star_star]\n",
    "    #     self.delta_i_attr[self.i_star] = abs(min(self.mu_ij[self.i_star]) - self.mu_th)\n",
    "    #     # print(self.delta_i_attr)\n",
    "\n",
    "    #     self.set1 = intersection(self.perfect_feasible, self.suboptimal)\n",
    "    #     self.set2 = intersection(self.infeasible, self.risky)\n",
    "    #     self.set3 = intersection(self.infeasible, self.suboptimal)\n",
    "\n",
    "    #     h0_den = (min(self.delta_i[self.i_star]/2, self.delta_i_attr[self.i_star]))**2\n",
    "    #     h0 = 1/h0_den\n",
    "\n",
    "    #     h1 = 0\n",
    "    #     for i in self.set1:\n",
    "    #         h1 += 4/(self.delta_i[i])**2\n",
    "\n",
    "    #     h2 = 0\n",
    "    #     for i in self.set2:\n",
    "    #         h2 += 1/(self.delta_i_attr[i])**2\n",
    "\n",
    "    #     h3 = 0\n",
    "    #     for i in self.set3:\n",
    "    #         h3 += 1/(max(self.delta_i[i]/2, self.delta_i_attr[i]))**2\n",
    "    #         # h3 += 5*np.exp((1/(max(self.delta_i[i]/2, 2*self.delta_i_attr[i]))**2)/192)\n",
    "\n",
    "    #     h_index = h0 + h1 + h2 + h3\n",
    "    #     # print(self.delta_i_attr[1])\n",
    "    #     # print(h0, h1, h2, h3)\n",
    "    #     # print(self.set2)\n",
    "\n",
    "    #     return h_index\n",
    "\n",
    "        "
   ]
  },
  {
   "cell_type": "markdown",
   "metadata": {},
   "source": [
    "# Main Function"
   ]
  },
  {
   "cell_type": "code",
   "execution_count": null,
   "metadata": {},
   "outputs": [],
   "source": [
    "def game(M, N, mu_th, delta):\n",
    "    T_t = [0 for i in range (N)]\n",
    "    t = 1\n",
    "    theGame = Oracle(M, N, mu_th)\n",
    "\n",
    "    h_idx, h_idx_old = 0, 0\n",
    "    # h_idx_old = theGame.H_index_old()\n",
    "    h_idx = theGame.H_index()\n",
    "\n",
    "    mu_hat_i = [0 for i in range (N)]\n",
    "    mu_hat_ij = [[0 for i in range (M)] for j in range (N)]\n",
    "\n",
    "    LCB = [0 for i in range (N)]\n",
    "    UCB = [0 for i in range (N)]\n",
    "    alpha = [0 for i in range(N)]\n",
    "\n",
    "    LCB_attr = [[0 for i in range (M)] for j in range (N)]\n",
    "    UCB_attr = [[0 for i in range (M)] for j in range (N)]\n",
    "\n",
    "    T_unif = 20\n",
    "\n",
    "    for j in range (T_unif):\n",
    "        ## 20 times uniform exploration\n",
    "        for i in range (N):\n",
    "            reward_arm = theGame.play(i)\n",
    "            for k in range (M):\n",
    "                mu_hat_ij[i][k] = (mu_hat_ij[i][k] * T_t[i] + reward_arm[k])/(T_t[i] + 1)\n",
    "            mu_hat_i[i] = sum(mu_hat_ij[i])/M\n",
    "            T_t[i] += 1\n",
    "\n",
    "    all_arms = list(range(0, N))\n",
    "    feasible = list(range(0, N))\n",
    "    t += N*T_unif"
   ]
  }
 ],
 "metadata": {
  "kernelspec": {
   "display_name": "Python 3",
   "language": "python",
   "name": "python3"
  },
  "language_info": {
   "codemirror_mode": {
    "name": "ipython",
    "version": 3
   },
   "file_extension": ".py",
   "mimetype": "text/x-python",
   "name": "python",
   "nbconvert_exporter": "python",
   "pygments_lexer": "ipython3",
   "version": "3.10.5"
  }
 },
 "nbformat": 4,
 "nbformat_minor": 2
}
