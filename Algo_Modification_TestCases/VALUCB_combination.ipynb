{
 "cells": [
  {
   "cell_type": "code",
   "execution_count": 2,
   "metadata": {},
   "outputs": [],
   "source": [
    "import numpy as np\n",
    "import matplotlib.pyplot as plt\n",
    "import math"
   ]
  },
  {
   "cell_type": "code",
   "execution_count": 3,
   "metadata": {},
   "outputs": [],
   "source": [
    "from icecream import ic\n",
    "import csv\n",
    "filename = '/../Academics/Semester7/BTP/Algo_Modification_TestCases/Data.csv'"
   ]
  },
  {
   "cell_type": "markdown",
   "metadata": {},
   "source": [
    "# Functions Required"
   ]
  },
  {
   "cell_type": "code",
   "execution_count": 4,
   "metadata": {},
   "outputs": [],
   "source": [
    "def get_margins(mu, N, M, t, T, delta):\n",
    "    # delta = 0.1\n",
    "    val1 = N*(M+1)/2/delta\n",
    "    val2 = t**3\n",
    "    val = val1*val2\n",
    "    # print(val)\n",
    "    log_term = math.log(val)\n",
    "    sqrt_term = log_term/2/T\n",
    "    alpha = math.sqrt(sqrt_term)\n",
    "    LCB = mu - alpha\n",
    "    UCB = mu + alpha\n",
    "    return LCB, UCB"
   ]
  },
  {
   "cell_type": "code",
   "execution_count": 5,
   "metadata": {},
   "outputs": [],
   "source": [
    "def get_feasible_set(mu_th, UCB_attr):\n",
    "    ## mu_attr will be an array with the current means of all attributes of the specific arm\n",
    "    ## same for UCB and LCB things\n",
    "    feasible_set = []\n",
    "    ## here mu_attr would be a 2D array with all the means\n",
    "    ## same for LCB (LCB_attr)\n",
    "    n = len(UCB_attr)\n",
    "    m = len(UCB_attr[0])\n",
    "    for i in range (n):\n",
    "        ## for each arm\n",
    "        found = False\n",
    "        UCB_min = min(UCB_attr[i])\n",
    "        if (UCB_min >= mu_th):\n",
    "            feasible_set.append(i)\n",
    "\n",
    "    return feasible_set"
   ]
  },
  {
   "cell_type": "code",
   "execution_count": 6,
   "metadata": {},
   "outputs": [],
   "source": [
    "def get_perfect_feasible_set(mu_th, LCB_attr):\n",
    "    feasible_set = []\n",
    "    ## here mu_attr would be a 2D array with all the means\n",
    "    ## same for LCB (LCB_attr)\n",
    "    # n = len(LCB_attr)\n",
    "    n = len(LCB_attr)\n",
    "    for i in range (n):\n",
    "        ## for each arm\n",
    "        LCB_min  = min(LCB_attr[i])\n",
    "        if (LCB_min >= mu_th):\n",
    "            feasible_set.append(i)\n",
    "\n",
    "    return feasible_set"
   ]
  },
  {
   "cell_type": "code",
   "execution_count": 7,
   "metadata": {},
   "outputs": [],
   "source": [
    "def get_potential_set(i_star_t, LCB_i_star, UCB):\n",
    "    ## here UCB will be an array for UCB of means of all the arms\n",
    "    potent = []\n",
    "    for i in range(len(UCB)):\n",
    "        if ((LCB_i_star <= UCB[i]) and (i != i_star_t)):\n",
    "            potent.append(i)\n",
    "    return potent"
   ]
  },
  {
   "cell_type": "code",
   "execution_count": 8,
   "metadata": {},
   "outputs": [],
   "source": [
    "def best_arm(mu, feasible_set):\n",
    "    ## for arms in feasible set, we need to find the arm with maximum mean\n",
    "    # if len(feasible_set) == 0: return 0\n",
    "    best = feasible_set[0]\n",
    "    for arm in feasible_set:\n",
    "        if(mu[arm] >= mu[best]):\n",
    "            best = arm\n",
    "    return best"
   ]
  },
  {
   "cell_type": "code",
   "execution_count": 9,
   "metadata": {},
   "outputs": [],
   "source": [
    "def intersection(lst1, lst2):\n",
    "    temp = set(lst2)\n",
    "    lst3 = [value for value in lst1 if value in temp]\n",
    "    return lst3"
   ]
  },
  {
   "cell_type": "code",
   "execution_count": 10,
   "metadata": {},
   "outputs": [],
   "source": [
    "def potentially_competitor_arm(UCB, feasible_set, potentially_best_arm):\n",
    "    if (potentially_best_arm != feasible_set[0]):\n",
    "        best = feasible_set[0]\n",
    "    else:\n",
    "        best = feasible_set[1]\n",
    "    for arm in feasible_set:\n",
    "        if (arm != potentially_best_arm):\n",
    "            if((UCB[arm] > UCB[best])):\n",
    "                best = arm\n",
    "    # print(\"pot: \", potentially_best_arm, \"ct: \", best)\n",
    "    return best"
   ]
  },
  {
   "cell_type": "code",
   "execution_count": 11,
   "metadata": {},
   "outputs": [],
   "source": [
    "def get_suboptimal_arm(mu_i_star, mu_i, arms_set):\n",
    "    suboptimal = []\n",
    "    for arms in arms_set:\n",
    "        if (mu_i[arms] < mu_i_star):\n",
    "            suboptimal.append(arms)\n",
    "\n",
    "    return suboptimal"
   ]
  },
  {
   "cell_type": "code",
   "execution_count": 12,
   "metadata": {},
   "outputs": [],
   "source": [
    "def difference(li1, li2):\n",
    "    s = set(li2)\n",
    "    temp3 = [x for x in li1 if x not in s]\n",
    "    return temp3"
   ]
  },
  {
   "cell_type": "code",
   "execution_count": 13,
   "metadata": {},
   "outputs": [],
   "source": [
    "def get_perfect_feasible_attr_set(mu_th, LCB_attr):\n",
    "    perfect_feasible = []\n",
    "    for i in range (len(LCB_attr)):\n",
    "        for j in range (len(LCB_attr[0])):\n",
    "            if LCB_attr[i][j] >= mu_th:\n",
    "                perfect_feasible.append([i, j])\n",
    "\n",
    "    return perfect_feasible"
   ]
  },
  {
   "cell_type": "code",
   "execution_count": 14,
   "metadata": {},
   "outputs": [],
   "source": [
    "def get_possibly_feasible_attr_set(mu_th, LCB_attr, UCB_attr):\n",
    "    ans = []\n",
    "    # N, M = len(LCB_attr), len(UCB_attr)\n",
    "    # print(N, M)\n",
    "    for i in range(len(LCB_attr)):\n",
    "        for j in range (len(UCB_attr[0])):\n",
    "            if LCB_attr[i][j] < mu_th and UCB_attr[i][j] >= mu_th:\n",
    "                ans.append([i, j])\n",
    "    return ans"
   ]
  },
  {
   "cell_type": "markdown",
   "metadata": {},
   "source": [
    "# Oracle"
   ]
  },
  {
   "cell_type": "code",
   "execution_count": 135,
   "metadata": {},
   "outputs": [],
   "source": [
    "class Oracle:\n",
    "    def __init__(self, M, N, mu_th) -> None:\n",
    "        self.M = M\n",
    "        self.N = N\n",
    "        arms = 5\n",
    "        attributes = 5\n",
    "        self.mu_ij = [[0 for i in range (attributes)] for j in range (arms)]\n",
    "        self.ab_array = [[[0, 0] for i in range (attributes)] for j in range (arms)]\n",
    "        self.mu_i = [0 for i in range (arms)]\n",
    "\n",
    "        self.mu_th = mu_th\n",
    "        \n",
    "        ## fixing alpha at 1\n",
    "\n",
    "        self.ab_array[0] = np.array([[1, 1], [1, 0.67], [1, 0.67], [1, 1], [1, 0.25]])            #0.6\n",
    "        self.ab_array[1] = np.array([[1, 0.43], [1, 1], [1, 1.5], [1, 1.5], [1, 0.67]])          #0.58\n",
    "        self.ab_array[2] = np.array([[1, (1/x)-1], [1, 1], [1, 0.11], [1, 0.25], [1, 0.11]])         #0.68\n",
    "        self.ab_array[3] = np.array([[1, 0.67], [1, 4], [1, 1.5], [1, 0.43], [1, 0.67]])          #0.5\n",
    "        self.ab_array[4] = np.array([[1, 2.33], [1, 0.43], [1, 1.5], [1, 0.11], [1, 1]])          #0.56\n",
    "\n",
    "        for i in range (arms):\n",
    "            for j in range (attributes):\n",
    "                alpha = self.ab_array[i][j][0]\n",
    "                beta = self.ab_array[i][j][1]\n",
    "                self.mu_ij[i][j] = alpha / (alpha + beta)\n",
    "\n",
    "\n",
    "        for i in range (len(self.mu_i)):\n",
    "            self.mu_i[i] = sum(self.mu_ij[i])/attributes\n",
    "\n",
    "    def play(self, arm, attr):\n",
    "        alpha, beta = self.ab_array[arm][attr]\n",
    "        reward = np.random.beta(alpha, beta, 1)[0]\n",
    "        return reward\n",
    "    \n",
    "    def hardness(self):\n",
    "        self.i_star = 0                 ## best arm in the feasible set\n",
    "        self.i_star_star = self.N            ## best arm in suboptimal set\n",
    "\n",
    "        self.delta_i = [0 for i in range (self.N)]\n",
    "        self.delta_ij = [[0 for i in range (self.M)] for j in range (self.N)]\n",
    "        self.delta_i_attr = [0 for i in range (self.N)]\n",
    "\n",
    "         ### assume that always i_star is 0 ###\n",
    "        \n",
    "        all_arms = list(range(0, self.N))\n",
    "\n",
    "        self.perfect_feasible = get_perfect_feasible_set(self.mu_th, self.mu_ij)\n",
    "        self.i_star = best_arm(self.mu_i, self.perfect_feasible)\n",
    "\n",
    "        self.suboptimal = get_suboptimal_arm(self.mu_i[self.i_star], self.mu_i, all_arms)\n",
    "        if len(self.suboptimal) != 0:\n",
    "            self.i_star_star = best_arm(self.mu_i, self.suboptimal)\n",
    "        \n",
    "        self.risky = difference(all_arms, self.suboptimal)\n",
    "        self.infeasible = difference(all_arms, self.perfect_feasible) \n",
    "\n",
    "        for i in range (self.N):\n",
    "            if (i != self.i_star):\n",
    "                self.delta_i[i] = self.mu_i[self.i_star] - self.mu_i[i]\n",
    "                self.delta_i_attr[i] = abs(min(self.mu_ij[i]) - self.mu_th)\n",
    "\n",
    "        if self.i_star_star < self.N:                                                                           ### the suboptimal set has elements greater than zero\n",
    "            self.delta_i[self.i_star] = self.delta_i[self.i_star_star]\n",
    "        else:\n",
    "            self.delta_i[self.i_star] = math.inf\n",
    "            \n",
    "        self.delta_i_attr[self.i_star] = abs(min(self.mu_ij[self.i_star]) - self.mu_th)\n",
    "\n",
    "        return self.delta_i[self.i_star], self.delta_i_attr\n",
    "    \n",
    "    def H_index(self):\n",
    "        self.i_star = 0                 ## best arm in the feasible set\n",
    "        self.i_star_star = self.N            ## best arm in suboptimal set\n",
    "\n",
    "        self.delta_i = [0 for i in range (self.N)]\n",
    "        self.delta_ij = [[0 for i in range (self.M)] for j in range (self.N)]\n",
    "        self.delta_i_attr = [0 for i in range (self.N)]\n",
    "\n",
    "         ### assume that always i_star is 0 ###\n",
    "        \n",
    "        all_arms = list(range(0, self.N))\n",
    "\n",
    "        self.perfect_feasible = get_perfect_feasible_set(self.mu_th, self.mu_ij)\n",
    "        self.i_star = best_arm(self.mu_i, self.perfect_feasible)\n",
    "\n",
    "        self.suboptimal = get_suboptimal_arm(self.mu_i[self.i_star], self.mu_i, all_arms)\n",
    "        if len(self.suboptimal) != 0:\n",
    "            self.i_star_star = best_arm(self.mu_i, self.suboptimal)\n",
    "        \n",
    "        self.risky = difference(all_arms, self.suboptimal)\n",
    "        self.infeasible = difference(all_arms, self.perfect_feasible) \n",
    "\n",
    "        for i in range (self.N):\n",
    "            if (i != self.i_star):\n",
    "                self.delta_i[i] = self.mu_i[self.i_star] - self.mu_i[i]\n",
    "                self.delta_i_attr[i] = abs(min(self.mu_ij[i]) - self.mu_th)\n",
    "\n",
    "        if self.i_star_star < self.N:                                                                           ### the suboptimal set has elements greater than zero\n",
    "            self.delta_i[self.i_star] = self.delta_i[self.i_star_star]\n",
    "        else:\n",
    "            self.delta_i[self.i_star] = math.inf\n",
    "        self.delta_i_attr[self.i_star] = abs(min(self.mu_ij[self.i_star]) - self.mu_th)\n",
    "        # print(self.delta_i_attr)\n",
    "\n",
    "        self.set1 = intersection(self.perfect_feasible, self.suboptimal)\n",
    "        self.set2 = intersection(self.infeasible, self.risky)\n",
    "        self.set3 = intersection(self.infeasible, self.suboptimal)\n",
    "\n",
    "        h0_den = (min(self.delta_i[self.i_star]/2, self.delta_i_attr[self.i_star]))**2\n",
    "        h0 = 1/h0_den\n",
    "\n",
    "        h1 = 0\n",
    "        for i in self.set1:\n",
    "            h1 += 4/(self.delta_i[i])**2\n",
    "\n",
    "        h2 = 0\n",
    "        for i in self.set2:\n",
    "            h2 += 1/(self.delta_i_attr[i])**2\n",
    "\n",
    "        h3 = 0\n",
    "        for i in self.set3:\n",
    "            h3 += 1/(max(self.delta_i[i]/2, self.delta_i_attr[i]))**2\n",
    "\n",
    "        h_index = h0 + h1 + h2 + h3\n",
    "\n",
    "        return h_index"
   ]
  },
  {
   "cell_type": "markdown",
   "metadata": {},
   "source": [
    "# Main Function "
   ]
  },
  {
   "cell_type": "code",
   "execution_count": 93,
   "metadata": {},
   "outputs": [],
   "source": [
    "def game(M, N, mu_th, delta):\n",
    "    T_t_attr = [[0 for i in range (M)] for j in range (N)]\n",
    "    T_t = [0 for i in range(N)]\n",
    "    # t = 1\n",
    "    theGame = Oracle(M, N, mu_th)\n",
    "\n",
    "    h_idx, h_idx_old = 0, 0\n",
    "    # h_idx_old = theGame.H_index_old()\n",
    "    \n",
    "    \n",
    "    h_idx = theGame.H_index()\n",
    "\n",
    "\n",
    "    delta_i, delta_i_attr = theGame.hardness()\n",
    "\n",
    "    mu_hat_i = [0 for i in range (N)]\n",
    "    mu_hat_ij = [[0 for i in range (M)] for j in range (N)]\n",
    "\n",
    "    LCB = [0 for i in range (N)]\n",
    "    UCB = [0 for i in range (N)]\n",
    "    alpha = [0 for i in range (N)]\n",
    "\n",
    "    LCB_attr = [[0 for i in range (M)] for j in range (N)]\n",
    "    UCB_attr = [[0 for i in range (M)] for j in range (N)]\n",
    "\n",
    "    T_unif = 20\n",
    "\n",
    "    for j in range (T_unif):\n",
    "        ## 20 times uniform exploration\n",
    "        for i in range (N):\n",
    "            for k in range (M):\n",
    "                reward_arm = theGame.play(i, k)\n",
    "                mu_hat_ij[i][k] = (mu_hat_ij[i][k] * T_t_attr[i][k] + reward_arm)/(T_t_attr[i][k] + 1)\n",
    "                T_t_attr[i][k] += 1\n",
    "            mu_hat_i[i] = sum(mu_hat_ij[i])/M\n",
    "            # T_t[i] = sum(T_t_attr[i])\n",
    "            T_t[i] = min(T_t_attr[i])\n",
    "            \n",
    "\n",
    "    all_arms = list(range(0, N))\n",
    "    feasible = list(range(0, N))\n",
    "    t = N*T_unif*M\n",
    "\n",
    "    ### further pulls\n",
    "\n",
    "    while(True):\n",
    "        ## arm wise margins\n",
    "        for i in range (N):\n",
    "            LCB[i], UCB[i] = get_margins(mu_hat_i[i], N, M, t, T_t[i], delta)\n",
    "            alpha[i] = mu_hat_i[i] - LCB[i]\n",
    "\n",
    "        ## attribute wise margins\n",
    "        for i in range (N):\n",
    "            for j in range (M):\n",
    "                LCB_attr[i][j], UCB_attr[i][j] = get_margins(mu_hat_ij[i][j], N, M, t, T_t_attr[i][j], delta)\n",
    "\n",
    "        # print(\"t: \", t, \"T: \", T_t, \"alpha: \", alpha, \"mu: \", mu_hat_i)\n",
    "\n",
    "        perfect_feasible = get_perfect_feasible_set(mu_th, LCB_attr)\n",
    "        feasible = get_feasible_set(mu_th, UCB_attr)\n",
    "\n",
    "        perfect_feasible_attr = get_perfect_feasible_attr_set(mu_th, LCB_attr)                  ## this is the surely feasible set\n",
    "        possibly_feasible_attr = get_possibly_feasible_attr_set(mu_th, LCB_attr, UCB_attr)               ## this is the dell f set\n",
    "        feasible_attr = []\n",
    "        for elem in perfect_feasible_attr:\n",
    "            feasible_attr.append(elem)\n",
    "        for elem in possibly_feasible_attr:\n",
    "            feasible_attr.append(elem)\n",
    "        ### here each entry will be an array with values [arm, attr]\n",
    "\n",
    "        if(len(perfect_feasible) != 0):\n",
    "            i_star_t = best_arm(mu_hat_i, perfect_feasible)\n",
    "        else:\n",
    "            i_star_t = mu_hat_i.index(max(mu_hat_i))\n",
    "\n",
    "        if (len(feasible) != 0):\n",
    "            i_t = best_arm(mu_hat_i, feasible)\n",
    "\n",
    "        ## potential set is the set of arms which have more UCB than the  current best arm mean, irrespective of feasibility\n",
    "        if (len(perfect_feasible) == 0):\n",
    "            potential = all_arms\n",
    "        else:\n",
    "            potential = get_potential_set(i_star_t, LCB[i_star_t], UCB)\n",
    "        \n",
    "        pot_intersect_feas = intersection(potential, feasible)\n",
    "\n",
    "        # print(\"Feasible: \", feasible, \"Perfect feasible: \", perfect_feasible, \"Potential: \", potential, \"mu_hat for all\", mu_hat_i, \"UCB of all: \", UCB, \"LCB for all: \", LCB)\n",
    "        # print(\"Feasible: \", feasible, \"Attribute feasible: \", possibly_feasible_attr, \"Potential: \", potential, \"i_t:\", i_t, \"alpha: \", alpha, \"T_t: \", T_t, \"T_t_attr: \", T_t_attr)\n",
    "        #  \"i_t: \", i_t, \"i_star: \", i_star_t,\n",
    "        # ic(feasible, perfect_feasible, potential, mu_hat_i, alpha, i_t)\n",
    "        \n",
    "\n",
    "\n",
    "        ## Stopping criteria\n",
    "        if (len(pot_intersect_feas) == 0):\n",
    "            if(len(perfect_feasible) == 0):\n",
    "                f_hat = 0\n",
    "                i_out = N\n",
    "            else:\n",
    "                f_hat = 1\n",
    "                i_out = i_t\n",
    "            return i_out, f_hat, t, h_idx_old, h_idx, delta_i, delta_i_attr\n",
    "        \n",
    "\n",
    "        ################################# Sampling criteria here ####################################3\n",
    "        def original_algo():\n",
    "            # print(T_t_attr)\n",
    "            t1 = [sum(T_t_attr[i]) for i in range (N)]\n",
    "            t = sum(t1)\n",
    "            # print(t)\n",
    "            if (len(feasible) == 1):\n",
    "                i_t = best_arm(mu_hat_i, difference(feasible, perfect_feasible))\n",
    "                t_copy = t\n",
    "                for arm, attr in feasible_attr:\n",
    "                    if arm == i_t:\n",
    "                        ### pull arm, attr\n",
    "                        reward = theGame.play(arm, attr)\n",
    "                        mu_hat_ij[arm][attr] = (mu_hat_ij[arm][attr] * T_t_attr[arm][attr] + reward)/(T_t_attr[arm][attr] + 1)\n",
    "                        T_t_attr[arm][attr] += 1\n",
    "                        t += 1\n",
    "\n",
    "                mu_hat_i[i_t] = sum(mu_hat_ij[i_t])/M\n",
    "                # T_t[i_t] = sum(T_t_attr[i_t])\n",
    "                T_t[i_t] = min(T_t_attr[i_t])\n",
    "\n",
    "            else:\n",
    "                i_t = best_arm(mu_hat_i, feasible)\n",
    "                c_t = potentially_competitor_arm(UCB, feasible, i_t)\n",
    "                # print(\"else part\")\n",
    "                # print(\"Feasible: \", feasible, \"Attribute Possibly feasible: \", possibly_feasible_attr, \"Attribute feasible: \", feasible_attr, \"Potential: \", potential, \"i_t:\", i_t, \"c_t: \", c_t, \"alpha: \", alpha, \"T_t: \", T_t, \"T_t_attr: \", T_t_attr, \"UCB: \", UCB)\n",
    "                # print(\"Feasible: \", feasible, \"Perfect feasible: \", perfect_feasible, \"possibly feasible attr: \", possibly_feasible_attr, \"i_t: \", i_t, \"i_star: \", i_star_t)\n",
    "                # t_copy = t\n",
    "                # for arm, attr in possibly_feasible_attr:\n",
    "                for arm, attr in feasible_attr:\n",
    "                    if arm == i_t or arm == c_t:\n",
    "                        ### pull arm, attr\n",
    "                        reward = theGame.play(arm, attr)\n",
    "                        mu_hat_ij[arm][attr] = (mu_hat_ij[arm][attr] * T_t_attr[arm][attr] + reward)/(T_t_attr[arm][attr] + 1)\n",
    "                        T_t_attr[arm][attr] += 1\n",
    "                        t += 1\n",
    "\n",
    "                mu_hat_i[i_t] = sum(mu_hat_ij[i_t])/M\n",
    "                mu_hat_i[c_t] = sum(mu_hat_ij[c_t])/M\n",
    "                # T_t[i_t] = sum(T_t_attr[i_t])\n",
    "                # T_t[c_t] = sum(T_t_attr[c_t])\n",
    "\n",
    "                T_t[i_t] = min(T_t_attr[i_t])\n",
    "                T_t[c_t] = min(T_t_attr[c_t])\n",
    "\n",
    "            return t\n",
    "\n",
    "        def modified_algo():\n",
    "            # print(T_t)\n",
    "            # print(t)\n",
    "            t1 = [sum(T_t_attr[i]) for i in range (N)]\n",
    "            t = sum(t1)\n",
    "            if (len(feasible) == 1):\n",
    "                # print(\"if case\")\n",
    "                i_t = best_arm(mu_hat_i, difference(feasible, perfect_feasible))\n",
    "                t_copy = t\n",
    "                for arm, attr in possibly_feasible_attr:\n",
    "                    # if arm == i_t:\n",
    "                        ### pull arm, attr\n",
    "                    reward = theGame.play(arm, attr)\n",
    "                    mu_hat_ij[arm][attr] = (mu_hat_ij[arm][attr] * T_t_attr[arm][attr] + reward)/(T_t_attr[arm][attr] + 1)\n",
    "                    T_t_attr[arm][attr] += 1\n",
    "                    t += 1\n",
    "                    \n",
    "                arm = i_t\n",
    "                for attr in range (M):\n",
    "                    reward = theGame.play(arm, attr)\n",
    "                    mu_hat_ij[arm][attr] = (mu_hat_ij[arm][attr] * T_t_attr[arm][attr] + reward)/(T_t_attr[arm][attr] + 1)\n",
    "                    T_t_attr[arm][attr] += 1\n",
    "                    t += 1\n",
    "\n",
    "                mu_hat_i[i_t] = sum(mu_hat_ij[i_t])/M\n",
    "                # T_t[i_t] = sum(T_t_attr[i_t])\n",
    "                T_t[i_t] = min(T_t_attr[i_t])\n",
    "\n",
    "            else:\n",
    "                i_t = best_arm(mu_hat_i, feasible)\n",
    "                c_t = potentially_competitor_arm(UCB, feasible, i_t)\n",
    "                # print(\"else part\")\n",
    "                # print(\"Feasible: \", feasible, \"Attribute Possibly feasible: \", possibly_feasible_attr, \"Attribute feasible: \", feasible_attr, \"Potential: \", potential, \"i_t:\", i_t, \"c_t: \", c_t, \"alpha: \", alpha, \"T_t: \", T_t, \"T_t_attr: \", T_t_attr, \"UCB: \", UCB)\n",
    "                # print(\"Feasible: \", feasible, \"Perfect feasible: \", perfect_feasible, \"possibly feasible attr: \", possibly_feasible_attr, \"i_t: \", i_t, \"i_star: \", i_star_t)\n",
    "                t_copy = t\n",
    "                # for arm, attr in possibly_feasible_attr:\n",
    "                for arm, attr in possibly_feasible_attr:\n",
    "                    reward = theGame.play(arm, attr)\n",
    "                    mu_hat_ij[arm][attr] = (mu_hat_ij[arm][attr] * T_t_attr[arm][attr] + reward)/(T_t_attr[arm][attr] + 1)\n",
    "                    T_t_attr[arm][attr] += 1\n",
    "                    t += 1\n",
    "                    mu_hat_i[arm] = sum(mu_hat_ij[arm])/M\n",
    "                    T_t[arm] = min(T_t_attr[arm])\n",
    "\n",
    "                ### pulling all attributes of i_t and c_t\n",
    "                arm = i_t\n",
    "                for attr in range (M):\n",
    "                    reward = theGame.play(arm, attr)\n",
    "                    mu_hat_ij[arm][attr] = (mu_hat_ij[arm][attr] * T_t_attr[arm][attr] + reward)/(T_t_attr[arm][attr] + 1)\n",
    "                    T_t_attr[arm][attr] += 1\n",
    "                    t += 1\n",
    "                arm = c_t\n",
    "                for attr in range (M):\n",
    "                    reward = theGame.play(arm, attr)\n",
    "                    mu_hat_ij[arm][attr] = (mu_hat_ij[arm][attr] * T_t_attr[arm][attr] + reward)/(T_t_attr[arm][attr] + 1)\n",
    "                    T_t_attr[arm][attr] += 1\n",
    "                    t += 1\n",
    "\n",
    "                mu_hat_i[i_t] = sum(mu_hat_ij[i_t])/M\n",
    "                mu_hat_i[c_t] = sum(mu_hat_ij[c_t])/M\n",
    "                # T_t[i_t] = sum(T_t_attr[i_t])\n",
    "                # T_t[c_t] = sum(T_t_attr[c_t])\n",
    "\n",
    "                T_t[i_t] = min(T_t_attr[i_t])\n",
    "                T_t[c_t] = min(T_t_attr[c_t])\n",
    "\n",
    "            return t\n",
    "\n",
    "        ########################## conditions and algos to use ##############################\n",
    "        ## if we discover the existance of an arm which is infeasible and has highest mean empirically, we should go with the modification algo\n",
    "        best_mean_arm = mu_hat_i.index(max(mu_hat_i))\n",
    "        # print(feasible)\n",
    "        # print(mu_hat_i, best_mean_arm, perfect_feasible)\n",
    "        # print(best_mean_arm in perfect_feasible)\n",
    "        if best_mean_arm in perfect_feasible:\n",
    "            # print(\"modified\")\n",
    "            t = original_algo()\n",
    "        else:\n",
    "            # print(\"original\")\n",
    "            t = modified_algo()"
   ]
  },
  {
   "cell_type": "markdown",
   "metadata": {},
   "source": [
    "# Testcases"
   ]
  },
  {
   "cell_type": "markdown",
   "metadata": {},
   "source": [
    "### Case 3"
   ]
  },
  {
   "cell_type": "code",
   "execution_count": null,
   "metadata": {},
   "outputs": [],
   "source": [
    "# self.mu_ij[0] = np.array([0.5, 0.6, 0.6, 0.5, 0.8])               #0.6\n",
    "#         self.mu_ij[1] = np.array([0.7, 0.5, 0.4, 0.4, 0.6])        #0.58\n",
    "#         self.mu_ij[2] = np.array([x, 0.5, 0.9, 0.8, 0.9])        #0.68\n",
    "#         self.mu_ij[3] = np.array([0.6, 0.2, 0.4, 0.7, 0.6])        #0.5\n",
    "#         self.mu_ij[4] = np.array([0.3, 0.7, 0.4, 0.9, 0.5])        #0.56\n",
    "\n",
    "# self.ab_array[0] = np.array([[1, 1], [1, 0.67], [1, 0.67], [1, 1], [1, 0.25]])            #0.6\n",
    "# self.ab_array[1] = np.array([[1, 0.43], [1, 1], [1, 1.5], [1, 1.5], [1, 0.67]])          #0.58\n",
    "# self.ab_array[2] = np.array([[1, (1/x)-1], [1, 1], [1, 0.11], [1, 0.25], [1, 0.11]])         #0.68\n",
    "# self.ab_array[3] = np.array([[1, 0.67], [1, 4], [1, 1.5], [1, 0.43], [1, 0.67]])          #0.5\n",
    "# self.ab_array[4] = np.array([[1, 2.33], [1, 0.43], [1, 1.5], [1, 0.11], [1, 1]])          #0.56\n",
    "\n",
    "# mu_th = 0.35\n",
    "\n",
    "# x varies from 0.05 to 0.34"
   ]
  },
  {
   "cell_type": "code",
   "execution_count": 136,
   "metadata": {},
   "outputs": [
    {
     "name": "stdout",
     "output_type": "stream",
     "text": [
      "Done\n",
      "Done\n",
      "Done\n",
      "Done\n",
      "Done\n",
      "Done\n"
     ]
    }
   ],
   "source": [
    "N = 5\n",
    "M = 5\n",
    "N_iter = 10\n",
    "delta_ins = 0.1\n",
    "\n",
    "samples_ins = []\n",
    "x_val = []\n",
    "time_bound = []\n",
    "prob_success = []\n",
    "\n",
    "for x in [0.05, 0.1, 0.15, 0.2, 0.25, 0.3]:\n",
    "# for x in [0.05]:\n",
    "    count = [0 for i in range (N+1)]\n",
    "    samples_all = []\n",
    "    for i in range (N_iter):\n",
    "        best_arm_guess, f, samples, h_idx_old, h_idx, delta_i, delta_i_attr = game(M, N, mu_th=0.35, delta=delta_ins)\n",
    "        samples_all.append(samples)\n",
    "        count[best_arm_guess] += 1\n",
    "\n",
    "    samples_ins.append(sum(samples_all)/N_iter)\n",
    "    # x_val.append(x)\n",
    "    x_val.append(h_idx)\n",
    "    time = h_idx * math.log(h_idx/delta_ins)\n",
    "    time_bound.append(time)\n",
    "    prob_success.append(count[0]/N_iter)\n",
    "    print(\"Done\")\n"
   ]
  },
  {
   "cell_type": "code",
   "execution_count": 137,
   "metadata": {},
   "outputs": [
    {
     "name": "stdout",
     "output_type": "stream",
     "text": [
      "[1.0, 1.0, 1.0, 1.0, 1.0, 1.0]\n"
     ]
    }
   ],
   "source": [
    "print(prob_success)"
   ]
  },
  {
   "cell_type": "code",
   "execution_count": 138,
   "metadata": {},
   "outputs": [
    {
     "name": "stdout",
     "output_type": "stream",
     "text": [
      "[3660.99655226773, 3665.8854411566185, 3674.8854411566185, 3694.329885601063, 3749.8854411566185, 4049.8854411566185]\n",
      "[184812.8, 183333.9, 182811.7, 186892.0, 185864.8, 211586.6]\n"
     ]
    }
   ],
   "source": [
    "print(x_val)\n",
    "print(samples_ins)"
   ]
  },
  {
   "cell_type": "code",
   "execution_count": 139,
   "metadata": {},
   "outputs": [
    {
     "data": {
      "image/png": "[encoded data removed]",
      "text/plain": [
       "<Figure size 640x480 with 1 Axes>"
      ]
     },
     "metadata": {},
     "output_type": "display_data"
    }
   ],
   "source": [
    "plt.title(\"Number of plays required with varying mean\")\n",
    "plt.xlabel(\"Hardness\")\n",
    "plt.ylabel(\"Samples required\")\n",
    "plt.plot(x_val, samples_ins)\n",
    "plt.show()"
   ]
  },
  {
   "cell_type": "markdown",
   "metadata": {},
   "source": [
    "### Case 4a"
   ]
  },
  {
   "cell_type": "code",
   "execution_count": 103,
   "metadata": {},
   "outputs": [],
   "source": [
    "# self.mu_ij[0] = np.array([0.5, 0.6, 0.6, 0.5, 0.8])               #0.6\n",
    "#         self.mu_ij[1] = np.array([0.7, 0.5, 0.4, 0.4, 0.6])        #0.58\n",
    "#         self.mu_ij[2] = np.array([x, 0.5, 0.4, 0.8, 0.4])        #0.68\n",
    "#         self.mu_ij[3] = np.array([0.6, 0.2, 0.4, 0.7, 0.6])        #0.5\n",
    "#         self.mu_ij[4] = np.array([0.3, 0.7, 0.4, 0.9, 0.5])        #0.56\n",
    "\n",
    "# self.ab_array[0] = np.array([[1, 1], [1, 0.67], [1, 0.67], [1, 1], [1, 0.25]])            #0.6\n",
    "# self.ab_array[1] = np.array([[1, 0.43], [1, 1], [1, 1.5], [1, 1.5], [1, 0.67]])          #0.58\n",
    "# self.ab_array[2] = np.array([[1, (1/x)-1], [1, 1], [1, 1.5], [1, 0.25], [1, 1.5]])         #0.68\n",
    "# self.ab_array[3] = np.array([[1, 0.67], [1, 4], [1, 1.5], [1, 0.43], [1, 0.67]])          #0.5\n",
    "# self.ab_array[4] = np.array([[1, 2.33], [1, 0.43], [1, 1.5], [1, 0.11], [1, 1]])          #0.56\n",
    "\n",
    "# mu_th = 0.35\n",
    "\n",
    "# x varies from 0.05 to 0.28"
   ]
  },
  {
   "cell_type": "code",
   "execution_count": 130,
   "metadata": {},
   "outputs": [
    {
     "name": "stdout",
     "output_type": "stream",
     "text": [
      "Done\n",
      "Done\n",
      "Done\n",
      "Done\n",
      "Done\n"
     ]
    }
   ],
   "source": [
    "N = 5\n",
    "M = 5\n",
    "N_iter = 10\n",
    "delta_ins = 0.1\n",
    "\n",
    "samples_ins = []\n",
    "x_val = []\n",
    "time_bound, time_bound_old = [], []\n",
    "prob_success = []\n",
    "\n",
    "for x in [0.05, 0.1, 0.15, 0.2, 0.25]:\n",
    "    count = [0 for i in range (N+1)]\n",
    "    samples_all = []\n",
    "    for i in range (N_iter):\n",
    "        best_arm_guess, f, samples, h_id_old, h_id, delta_i, delta_i_attr = game(M, N, mu_th=0.35, delta=delta_ins)\n",
    "        samples_all.append(samples)\n",
    "        count[best_arm_guess] += 1\n",
    "\n",
    "    samples_ins.append(sum(samples_all)/N_iter)\n",
    "    # x_val.append(x)\n",
    "    x_val.append(h_id)\n",
    "    # print(h_idx)\n",
    "    # time_old = h_id_old * math.log(h_id_old/delta_ins)\n",
    "    time = h_id * math.log(h_id/delta_ins)\n",
    "    # time_bound_old.append(time_old)\n",
    "    time_bound.append(time)\n",
    "    prob_success.append(count[0]/N_iter)\n",
    "    print(\"Done\")\n"
   ]
  },
  {
   "cell_type": "code",
   "execution_count": 131,
   "metadata": {},
   "outputs": [
    {
     "name": "stdout",
     "output_type": "stream",
     "text": [
      "[1.0, 1.0, 1.0, 1.0, 1.0]\n"
     ]
    }
   ],
   "source": [
    "print(prob_success)"
   ]
  },
  {
   "cell_type": "code",
   "execution_count": 132,
   "metadata": {},
   "outputs": [
    {
     "name": "stdout",
     "output_type": "stream",
     "text": [
      "[3660.9965522677294, 3665.8854411566185, 3674.8854411566185, 3694.329885601063, 3749.8854411566185]\n",
      "[188399.8, 185655.9, 192212.4, 188339.6, 203399.3]\n"
     ]
    }
   ],
   "source": [
    "print(x_val)\n",
    "print(samples_ins)"
   ]
  },
  {
   "cell_type": "code",
   "execution_count": 133,
   "metadata": {},
   "outputs": [
    {
     "data": {
      "image/png": "[encoded data removed]",
      "text/plain": [
       "<Figure size 640x480 with 1 Axes>"
      ]
     },
     "metadata": {},
     "output_type": "display_data"
    }
   ],
   "source": [
    "plt.title(\"Number of plays required with varying mean\")\n",
    "plt.xlabel(\"Hardness\")\n",
    "plt.ylabel(\"Samples required\")\n",
    "plt.plot(x_val, samples_ins)\n",
    "plt.show()"
   ]
  },
  {
   "cell_type": "markdown",
   "metadata": {},
   "source": [
    "### Case 4b"
   ]
  },
  {
   "cell_type": "code",
   "execution_count": null,
   "metadata": {},
   "outputs": [],
   "source": [
    "# self.mu_ij[0] = np.array([0.5, 0.6, 0.6, 0.5, 0.8])               #0.6\n",
    "#         self.mu_ij[1] = np.array([0.7, 0.5, 0.4, 0.4, 0.6])        #0.58\n",
    "#         self.mu_ij[2] = np.array([0.3, 0.5, 0.4, 0.8, x])        #0.68\n",
    "#         self.mu_ij[3] = np.array([0.34, 0.34, 0.8, 0.7, 0.5])        #0.5\n",
    "#         self.mu_ij[4] = np.array([0.34, 0.7, 0.4, 0.9, 0.5])        #0.56  \n",
    "\n",
    "# self.ab_array[0] = np.array([[1, 1], [1, 0.67], [1, 0.67], [1, 1], [1, 0.25]])            #0.6\n",
    "# self.ab_array[1] = np.array([[1, 0.43], [1, 1], [1, 1.5], [1, 1.5], [1, 0.67]])          #0.58\n",
    "# self.ab_array[2] = np.array([[1, 2.33], [1, 1], [1, 1.5], [1, 0.25], [1, (1/x)-1]])         #0.68\n",
    "# self.ab_array[3] = np.array([[1, 1.94], [1, 1.94], [1, 0.25], [1, 0.43], [1, 1]])          #0.5\n",
    "# self.ab_array[4] = np.array([[1, 1.94], [1, 0.43], [1, 1.5], [1, 0.11], [1, 1]])          #0.56\n",
    "\n",
    "# mu_th = 0.35\n",
    "\n",
    "# x varies from 0.05 to 0.34"
   ]
  },
  {
   "cell_type": "code",
   "execution_count": 123,
   "metadata": {},
   "outputs": [
    {
     "name": "stdout",
     "output_type": "stream",
     "text": [
      "Done\n",
      "Done\n",
      "Done\n",
      "Done\n",
      "Done\n"
     ]
    }
   ],
   "source": [
    "N = 5\n",
    "M = 5\n",
    "N_iter = 5\n",
    "delta_ins = 0.1\n",
    "\n",
    "samples_ins = []\n",
    "x_val = []\n",
    "time_bound, time_bound_old = [], []\n",
    "prob_success = []\n",
    "\n",
    "# for x in [0.36, 0.38, 0.4, 0.42, 0.44, 0.46, 0.48]:\n",
    "# for x in [0.36, 0.38, 0.4, 0.42, 0.44, 0.45]:\n",
    "# for x in [0.4, 0.42, 0.44, 0.45]:\n",
    "for x in [0.36, 0.39, 0.42, 0.45, 0.48]:\n",
    "    count = [0 for i in range (N+1)]\n",
    "    samples_all = []\n",
    "    for i in range (N_iter):\n",
    "        best_arm_guess, f, samples, h_id_old, h_id, delta_i, delta_i_attr = game(M, N, mu_th=0.35, delta=delta_ins)\n",
    "        samples_all.append(samples)\n",
    "        count[best_arm_guess] += 1\n",
    "\n",
    "    samples_ins.append(sum(samples_all)/N_iter)\n",
    "    # x_val.append(x)\n",
    "    x_val.append(h_id)\n",
    "    # time_old = h_id_old * math.log(h_id_old/delta_ins)\n",
    "    time = h_id * math.log(h_id/delta_ins)\n",
    "    # time_bound_old.append(time_old)\n",
    "    time_bound.append(time)\n",
    "    prob_success.append(count[0]/N_iter)\n",
    "    print(\"Done\")\n"
   ]
  },
  {
   "cell_type": "code",
   "execution_count": 124,
   "metadata": {},
   "outputs": [
    {
     "name": "stdout",
     "output_type": "stream",
     "text": [
      "[1.0, 1.0, 1.0, 1.0, 1.0]\n"
     ]
    }
   ],
   "source": [
    "print(prob_success)"
   ]
  },
  {
   "cell_type": "code",
   "execution_count": 125,
   "metadata": {},
   "outputs": [
    {
     "name": "stdout",
     "output_type": "stream",
     "text": [
      "[9947.834411980708, 9972.760105121502, 10001.671791249817, 10035.466982530681, 10075.310792638411]\n",
      "[1050911.4, 1006397.6, 1056204.4, 1057704.4, 1046059.6]\n"
     ]
    }
   ],
   "source": [
    "print(x_val)\n",
    "print(samples_ins)"
   ]
  },
  {
   "cell_type": "code",
   "execution_count": 126,
   "metadata": {},
   "outputs": [
    {
     "data": {
      "image/png": "[encoded data removed]",
      "text/plain": [
       "<Figure size 640x480 with 1 Axes>"
      ]
     },
     "metadata": {},
     "output_type": "display_data"
    }
   ],
   "source": [
    "plt.title(\"Number of plays required with varying mean\")\n",
    "plt.xlabel(\"Hardness\")\n",
    "plt.ylabel(\"Samples required\")\n",
    "plt.plot(x_val, samples_ins)\n",
    "plt.show()"
   ]
  },
  {
   "cell_type": "markdown",
   "metadata": {},
   "source": [
    "# Plotting"
   ]
  },
  {
   "cell_type": "code",
   "execution_count": 140,
   "metadata": {},
   "outputs": [],
   "source": [
    "with open(filename, 'r') as file:\n",
    "    # Create a CSV reader object\n",
    "    reader = csv.reader(file)\n",
    "\n",
    "    # Create a list to store the rows\n",
    "    rows = []\n",
    "\n",
    "    # Iterate over each row in the CSV file\n",
    "    for row in reader:\n",
    "        # Append the row to the list\n",
    "        rows.append(row)\n",
    "\n",
    "    # Modify the 4th row\n",
    "    # print(len(rows))\n",
    "    rows[0] = x_val\n",
    "    rows[3] = samples_ins\n",
    "\n",
    "# Open the CSV file in write mode\n",
    "with open(filename, 'w', newline='') as file:\n",
    "    # Create a CSV writer object\n",
    "    writer = csv.writer(file)\n",
    "\n",
    "    # Write the modified rows to the CSV file\n",
    "    writer.writerows(rows)"
   ]
  }
 ],
 "metadata": {
  "kernelspec": {
   "display_name": "Python 3",
   "language": "python",
   "name": "python3"
  },
  "language_info": {
   "codemirror_mode": {
    "name": "ipython",
    "version": 3
   },
   "file_extension": ".py",
   "mimetype": "text/x-python",
   "name": "python",
   "nbconvert_exporter": "python",
   "pygments_lexer": "ipython3",
   "version": "3.10.5"
  }
 },
 "nbformat": 4,
 "nbformat_minor": 2
}
